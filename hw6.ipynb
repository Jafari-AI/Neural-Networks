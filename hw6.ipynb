{
 "cells": [
  {
   "cell_type": "markdown",
   "metadata": {},
   "source": [
    "# Neural Nerworks. \n",
    "\n",
    "### BY: Arash Hosseini Jafari\n",
    "\n",
    "The purpose of this project is to build and train an neural network to predict a set of classes.\n",
    "\n",
    "#### Preprocessing: \n",
    "\n",
    "The preprocessing for the first part was minimal. In the second section we created new vaiables/features that we fed into our model.\n",
    "\n",
    "#### Faramework: \n",
    "\n",
    "The SKLearn framework was used to perform all machine learning tasks. \n",
    "\n",
    "#### Other Packages:\n",
    "\n",
    "Numpy was used for data handling. Matplotlib was used for basic visualization. Graphviz, Pydotplus, and Ipython were used to visualization.\n",
    "\n",
    "------------------------------------------"
   ]
  },
  {
   "cell_type": "markdown",
   "metadata": {},
   "source": [
    "###  Importing all the necessary packages."
   ]
  },
  {
   "cell_type": "code",
   "execution_count": 181,
   "metadata": {},
   "outputs": [],
   "source": [
    "from sklearn.preprocessing import LabelEncoder\n",
    "from sklearn.externals.six import StringIO  \n",
    "from IPython.display import Image  \n",
    "from sklearn.tree import export_graphviz\n",
    "import pydotplus\n",
    "from sklearn.ensemble import RandomForestClassifier\n",
    "from matplotlib import pyplot as plt\n",
    "from sklearn.metrics import accuracy_score\n",
    "from sklearn.metrics import confusion_matrix\n",
    "from sklearn.metrics import classification_report\n",
    "from sklearn.model_selection import train_test_split"
   ]
  },
  {
   "cell_type": "markdown",
   "metadata": {},
   "source": [
    "### Visualizing Data Set.\n",
    "This data set contains a veriety of variables that seem to represent x and y values. The last column represents 3 classes which are R G B, which could be representatives of the color red blue and green.              "
   ]
  },
  {
   "cell_type": "markdown",
   "metadata": {},
   "source": [
    " "
   ]
  },
  {
   "cell_type": "code",
   "execution_count": 182,
   "metadata": {},
   "outputs": [
    {
     "data": {
      "text/html": [
       "<div>\n",
       "<style scoped>\n",
       "    .dataframe tbody tr th:only-of-type {\n",
       "        vertical-align: middle;\n",
       "    }\n",
       "\n",
       "    .dataframe tbody tr th {\n",
       "        vertical-align: top;\n",
       "    }\n",
       "\n",
       "    .dataframe thead th {\n",
       "        text-align: right;\n",
       "    }\n",
       "</style>\n",
       "<table border=\"1\" class=\"dataframe\">\n",
       "  <thead>\n",
       "    <tr style=\"text-align: right;\">\n",
       "      <th></th>\n",
       "      <th>xval</th>\n",
       "      <th>yval</th>\n",
       "      <th>color</th>\n",
       "    </tr>\n",
       "  </thead>\n",
       "  <tbody>\n",
       "    <tr>\n",
       "      <th>0</th>\n",
       "      <td>16.263398</td>\n",
       "      <td>13.299206</td>\n",
       "      <td>r</td>\n",
       "    </tr>\n",
       "    <tr>\n",
       "      <th>1</th>\n",
       "      <td>0.775408</td>\n",
       "      <td>23.986692</td>\n",
       "      <td>r</td>\n",
       "    </tr>\n",
       "    <tr>\n",
       "      <th>2</th>\n",
       "      <td>29.170503</td>\n",
       "      <td>-3.287474</td>\n",
       "      <td>r</td>\n",
       "    </tr>\n",
       "    <tr>\n",
       "      <th>3</th>\n",
       "      <td>6.739044</td>\n",
       "      <td>-28.033329</td>\n",
       "      <td>r</td>\n",
       "    </tr>\n",
       "    <tr>\n",
       "      <th>4</th>\n",
       "      <td>3.216100</td>\n",
       "      <td>22.013695</td>\n",
       "      <td>r</td>\n",
       "    </tr>\n",
       "  </tbody>\n",
       "</table>\n",
       "</div>"
      ],
      "text/plain": [
       "        xval       yval color\n",
       "0  16.263398  13.299206     r\n",
       "1   0.775408  23.986692     r\n",
       "2  29.170503  -3.287474     r\n",
       "3   6.739044 -28.033329     r\n",
       "4   3.216100  22.013695     r"
      ]
     },
     "execution_count": 182,
     "metadata": {},
     "output_type": "execute_result"
    }
   ],
   "source": [
    "import numpy as np\n",
    "import pandas as pd\n",
    "import matplotlib.pyplot as plt\n",
    "\n",
    "df = pd.read_csv(\"train_set.csv\")\n",
    "df.head(5)\n"
   ]
  },
  {
   "cell_type": "code",
   "execution_count": 183,
   "metadata": {},
   "outputs": [
    {
     "data": {
      "image/png": "[encoded data removed]",
      "text/plain": [
       "<Figure size 432x288 with 1 Axes>"
      ]
     },
     "metadata": {
      "needs_background": "light"
     },
     "output_type": "display_data"
    }
   ],
   "source": [
    "theClasses = ['color']\n",
    "\n",
    "for catz in theClasses:\n",
    "    \n",
    "    # create a figure and axis \n",
    "    fig, ax = plt.subplots() \n",
    "    # count the occurrence of each class \n",
    "    data = df[catz].value_counts() \n",
    "    \n",
    "    # get x and y data \n",
    "    points = data.index \n",
    "    frequency = data.values \n",
    "    # create bar chart \n",
    "    ax.bar(points,frequency) \n",
    "    # set title and labels \n",
    "    ax.set_title(catz) \n",
    "    ax.set_xlabel('catagory') \n",
    "    ax.set_ylabel('Frequency')\n",
    "    plt.setp(ax.get_xticklabels(), rotation=30, horizontalalignment='right')\n",
    "    fig.tight_layout()"
   ]
  },
  {
   "cell_type": "markdown",
   "metadata": {},
   "source": [
    "###### There seems to be a large class imbalance:\n",
    "Red is the more prominent class by far.                                                                    "
   ]
  },
  {
   "cell_type": "code",
   "execution_count": 184,
   "metadata": {},
   "outputs": [
    {
     "name": "stdout",
     "output_type": "stream",
     "text": [
      "\n",
      " * Distribution of the first feature (xval) *\n",
      "\n"
     ]
    },
    {
     "data": {
      "text/plain": [
       "<matplotlib.axes._subplots.AxesSubplot at 0x1a217506a0>"
      ]
     },
     "execution_count": 184,
     "metadata": {},
     "output_type": "execute_result"
    },
    {
     "data": {
      "image/png": "[encoded data removed]",
      "text/plain": [
       "<Figure size 432x288 with 1 Axes>"
      ]
     },
     "metadata": {
      "needs_background": "light"
     },
     "output_type": "display_data"
    }
   ],
   "source": [
    "print('\\n * Distribution of the first feature (xval) *\\n')\n",
    "df.boxplot(column=['xval'])"
   ]
  },
  {
   "cell_type": "code",
   "execution_count": 185,
   "metadata": {},
   "outputs": [
    {
     "name": "stdout",
     "output_type": "stream",
     "text": [
      "\n",
      " * Distribution of the second feature (yval) *\n",
      "\n"
     ]
    },
    {
     "data": {
      "text/plain": [
       "<matplotlib.axes._subplots.AxesSubplot at 0x1a218afb38>"
      ]
     },
     "execution_count": 185,
     "metadata": {},
     "output_type": "execute_result"
    },
    {
     "data": {
      "image/png": "[encoded data removed]",
      "text/plain": [
       "<Figure size 432x288 with 1 Axes>"
      ]
     },
     "metadata": {
      "needs_background": "light"
     },
     "output_type": "display_data"
    }
   ],
   "source": [
    "print('\\n * Distribution of the second feature (yval) *\\n')\n",
    "df.boxplot(column=['yval'])"
   ]
  },
  {
   "cell_type": "markdown",
   "metadata": {},
   "source": [
    "###### The box plots show that both the firt and second feature seem to be normally distributed around the same median. Both seem to have similar max and min values. "
   ]
  },
  {
   "cell_type": "code",
   "execution_count": 186,
   "metadata": {},
   "outputs": [
    {
     "name": "stdout",
     "output_type": "stream",
     "text": [
      "\n",
      " * Feature Destributions *\n",
      "\n"
     ]
    },
    {
     "data": {
      "text/html": [
       "<div>\n",
       "<style scoped>\n",
       "    .dataframe tbody tr th:only-of-type {\n",
       "        vertical-align: middle;\n",
       "    }\n",
       "\n",
       "    .dataframe tbody tr th {\n",
       "        vertical-align: top;\n",
       "    }\n",
       "\n",
       "    .dataframe thead th {\n",
       "        text-align: right;\n",
       "    }\n",
       "</style>\n",
       "<table border=\"1\" class=\"dataframe\">\n",
       "  <thead>\n",
       "    <tr style=\"text-align: right;\">\n",
       "      <th></th>\n",
       "      <th>xval</th>\n",
       "      <th>yval</th>\n",
       "    </tr>\n",
       "  </thead>\n",
       "  <tbody>\n",
       "    <tr>\n",
       "      <th>count</th>\n",
       "      <td>685.000000</td>\n",
       "      <td>685.000000</td>\n",
       "    </tr>\n",
       "    <tr>\n",
       "      <th>mean</th>\n",
       "      <td>0.596296</td>\n",
       "      <td>1.079071</td>\n",
       "    </tr>\n",
       "    <tr>\n",
       "      <th>std</th>\n",
       "      <td>18.941957</td>\n",
       "      <td>18.789436</td>\n",
       "    </tr>\n",
       "    <tr>\n",
       "      <th>min</th>\n",
       "      <td>-54.531886</td>\n",
       "      <td>-57.232861</td>\n",
       "    </tr>\n",
       "    <tr>\n",
       "      <th>25%</th>\n",
       "      <td>-16.376391</td>\n",
       "      <td>-14.788019</td>\n",
       "    </tr>\n",
       "    <tr>\n",
       "      <th>50%</th>\n",
       "      <td>0.387794</td>\n",
       "      <td>0.474620</td>\n",
       "    </tr>\n",
       "    <tr>\n",
       "      <th>75%</th>\n",
       "      <td>17.255583</td>\n",
       "      <td>16.628887</td>\n",
       "    </tr>\n",
       "    <tr>\n",
       "      <th>max</th>\n",
       "      <td>58.905065</td>\n",
       "      <td>60.321524</td>\n",
       "    </tr>\n",
       "  </tbody>\n",
       "</table>\n",
       "</div>"
      ],
      "text/plain": [
       "             xval        yval\n",
       "count  685.000000  685.000000\n",
       "mean     0.596296    1.079071\n",
       "std     18.941957   18.789436\n",
       "min    -54.531886  -57.232861\n",
       "25%    -16.376391  -14.788019\n",
       "50%      0.387794    0.474620\n",
       "75%     17.255583   16.628887\n",
       "max     58.905065   60.321524"
      ]
     },
     "execution_count": 186,
     "metadata": {},
     "output_type": "execute_result"
    }
   ],
   "source": [
    "print('\\n * Feature Destributions *\\n')\n",
    "df.describe()"
   ]
  },
  {
   "cell_type": "markdown",
   "metadata": {},
   "source": [
    "--------------------\n",
    "## Test / Train Set Creation\n",
    "\n",
    "Test and train sets were made using train_test_split \n",
    "\n",
    "---------------"
   ]
  },
  {
   "cell_type": "code",
   "execution_count": 211,
   "metadata": {},
   "outputs": [
    {
     "data": {
      "text/plain": [
       "\"''\\nnames = ['r', 'g', 'b']\\nfeature_names = ['xval','yval']\\n\\n# One hot encoding\\nenc = OneHotEncoder()\\nY = enc.fit_transform(y[:, np.newaxis]).toarray()\\n\\n# Scale data to have mean 0 and variance 1 \\n# which is importance for convergence of the neural network\\nscaler = StandardScaler()\\nX_scaled = scaler.fit_transform(X)\\n\\n# Split the data set into training and testing\\nX_train, X_test, y_train, y_test = train_test_split(\\n    X_scaled, Y, test_size=0.5, random_state=2)\\n\\nn_features = X.shape[1]\\nn_classes = Y.shape[1]\\n\""
      ]
     },
     "execution_count": 211,
     "metadata": {},
     "output_type": "execute_result"
    }
   ],
   "source": [
    "from sklearn.model_selection import train_test_split\n",
    "from sklearn.preprocessing import OneHotEncoder, StandardScaler\n",
    "\n",
    "X = df.drop(['color'], axis='columns')\n",
    "y = df['color']\n"
   ]
  },
  {
   "cell_type": "code",
   "execution_count": 212,
   "metadata": {},
   "outputs": [],
   "source": [
    "X_train, X_test, y_train, y_test = train_test_split(X, y,test_size=0.2)"
   ]
  },
  {
   "cell_type": "code",
   "execution_count": 213,
   "metadata": {},
   "outputs": [],
   "source": [
    "from sklearn.preprocessing import StandardScaler\n",
    "scalar = StandardScaler()\n",
    "scalar.fit(X_train)\n",
    "X_train = scalar.transform(X_train)\n",
    "X_test = scalar.transform(X_test)"
   ]
  },
  {
   "cell_type": "markdown",
   "metadata": {},
   "source": [
    "----------\n",
    "\n",
    "#### Reusable Evaluation Function\n",
    "INCLUDES: Acuracy, Confusion Matrix, Percision, Recall, F score.\n",
    "\n",
    "I will be using this to evaluate all of the models run from here on out. \n",
    "\n",
    "---------"
   ]
  },
  {
   "cell_type": "code",
   "execution_count": 246,
   "metadata": {},
   "outputs": [],
   "source": [
    "import itertools\n",
    "\n",
    "\n",
    "def Eval (model):\n",
    "\n",
    "    predictions = model.predict(X_test)\n",
    "\n",
    "\n",
    "\n",
    "\n",
    "    def plot_confusion_matrix(cm, classes,\n",
    "                              normalize=False,\n",
    "                              title='Confusion matrix',\n",
    "                              cmap=plt.cm.Blues):\n",
    "        \"\"\"\n",
    "        This function prints and plots the confusion matrix.\n",
    "        Normalization can be applied by setting normalize=True.\n",
    "        \"\"\"\n",
    "        if normalize:\n",
    "            cm = cm.astype('float') / cm.sum(axis=1)[:, np.newaxis]\n",
    "            print(\"\\nNormalized confusion matrix\")\n",
    "        else:\n",
    "            print('\\nConfusion matrix, without normalization')\n",
    "\n",
    "        #print(cm)\n",
    "\n",
    "        plt.imshow(cm, interpolation='nearest', cmap=cmap)\n",
    "        plt.title(title)\n",
    "        plt.colorbar()\n",
    "        tick_marks = np.arange(len(classes))\n",
    "        plt.xticks(tick_marks, classes, rotation=45)\n",
    "        plt.yticks(tick_marks, classes)\n",
    "\n",
    "        fmt = '.2f' if normalize else 'd'\n",
    "        thresh = cm.max() / 2.\n",
    "        for i, j in itertools.product(range(cm.shape[0]), range(cm.shape[1])):\n",
    "            plt.text(j, i, format(cm[i, j], fmt),\n",
    "                     horizontalalignment=\"center\",\n",
    "                     color=\"white\" if cm[i, j] > thresh else \"black\")\n",
    "\n",
    "        plt.tight_layout()\n",
    "        plt.ylabel('True label')\n",
    "        plt.xlabel('Predicted label')\n",
    "\n",
    "\n",
    "\n",
    "    \n",
    "    print (\"\\nTrain Accuracy : \", accuracy_score(y_train, model.predict(X_train)))\n",
    "    print (\"\\nTest Accuracy  : \", accuracy_score(y_test, predictions))\n",
    "    cm = confusion_matrix(y_test, predictions)\n",
    "    #print (\" Confusion matrix \", confmat)\n",
    "\n",
    "        #plots confusion matrix non-normalized\n",
    "    #cm = confusion_matrix(y_test, predictions)\n",
    "    plot_confusion_matrix(cm, ['b','g', 'r'])\n",
    "    plt.show()\n",
    "\n",
    "    #plots confusion matrix normalized\n",
    "    plot_confusion_matrix(cm, ['b','g', 'r'], normalize=True)\n",
    "    plt.show()\n",
    "\n",
    "    \n",
    "    from sklearn.metrics import classification_report\n",
    "    \n",
    "    print(\"\\nCLASSIFICATION REPORT WITH PERCISION AND REACALL\\n\")\n",
    "    target_names = ['b','g', 'r']\n",
    "    print(classification_report(y_test, predictions, target_names=target_names))\n",
    "    \n",
    "    "
   ]
  },
  {
   "cell_type": "markdown",
   "metadata": {},
   "source": [
    "### RUNNING NEURAL NETWORKS\n",
    "\n",
    "#### Experiments: \n",
    "\n",
    "Now we will run several model configurations. \n",
    "\n",
    "1  We will increase the number of neurons for a 3 layered network.\n",
    "\n",
    "2  Experiment with different activation functions.\n",
    "\n",
    "3  Increase the number of layers.\n",
    "\n"
   ]
  },
  {
   "cell_type": "markdown",
   "metadata": {},
   "source": [
    "### 1 Increase number of neurons"
   ]
  },
  {
   "cell_type": "code",
   "execution_count": 247,
   "metadata": {},
   "outputs": [
    {
     "name": "stdout",
     "output_type": "stream",
     "text": [
      "model paramenters:\n",
      " \n",
      " MLPClassifier(activation='relu', alpha=1e-05, batch_size='auto', beta_1=0.9,\n",
      "              beta_2=0.999, early_stopping=False, epsilon=1e-08,\n",
      "              hidden_layer_sizes=(100, 100, 100), learning_rate='constant',\n",
      "              learning_rate_init=0.001, max_iter=1000, momentum=0.9,\n",
      "              n_iter_no_change=10, nesterovs_momentum=True, power_t=0.5,\n",
      "              random_state=1, shuffle=True, solver='lbfgs', tol=0.0001,\n",
      "              validation_fraction=0.1, verbose=False, warm_start=False)\n",
      "\n",
      " ***** PARAMETER MODIFICATIONS *****\n",
      "\n",
      "\n",
      " * NUMBER OF HIDDEN LAYERS : 3  *\n",
      "\n",
      "\n",
      " * SIZE OF EACH LAYER (LAYER 1, LAYER 2, ...) : (100, 100, 100)  *\n",
      "\n",
      "\n",
      " * CURRENT ACTIVATION FUNCTION : relu  *\n",
      "\n"
     ]
    }
   ],
   "source": [
    "from sklearn.neural_network import MLPClassifier\n",
    "\n",
    "clf = MLPClassifier(solver='lbfgs', alpha=1e-5,\n",
    "                    hidden_layer_sizes=(100,100,100), random_state=1, max_iter= 1000)\n",
    "print('model paramenters:\\n \\n',clf)\n",
    "neuralnetwork= clf.fit(X_train, y_train)  \n",
    "\n",
    "print('\\n ***** PARAMETER MODIFICATIONS *****\\n')\n",
    "\n",
    "print('\\n * NUMBER OF HIDDEN LAYERS :',len(clf.hidden_layer_sizes),' *\\n')\n",
    "print('\\n * SIZE OF EACH LAYER (LAYER 1, LAYER 2, ...) :',clf.hidden_layer_sizes,' *\\n')\n",
    "print('\\n * CURRENT ACTIVATION FUNCTION :',clf.activation,' *\\n')\n"
   ]
  },
  {
   "cell_type": "code",
   "execution_count": 248,
   "metadata": {},
   "outputs": [
    {
     "name": "stdout",
     "output_type": "stream",
     "text": [
      "\n",
      "Train Accuracy :  1.0\n",
      "\n",
      "Test Accuracy  :  0.9927007299270073\n",
      "\n",
      "Confusion matrix, without normalization\n"
     ]
    },
    {
     "data": {
      "image/png": "[encoded data removed]",
      "text/plain": [
       "<Figure size 432x288 with 2 Axes>"
      ]
     },
     "metadata": {
      "needs_background": "light"
     },
     "output_type": "display_data"
    },
    {
     "name": "stdout",
     "output_type": "stream",
     "text": [
      "\n",
      "Normalized confusion matrix\n"
     ]
    },
    {
     "data": {
      "image/png": "[encoded data removed]",
      "text/plain": [
       "<Figure size 432x288 with 2 Axes>"
      ]
     },
     "metadata": {
      "needs_background": "light"
     },
     "output_type": "display_data"
    },
    {
     "name": "stdout",
     "output_type": "stream",
     "text": [
      "\n",
      "CLASSIFICATION REPORT WITH PERCISION AND REACALL\n",
      "\n",
      "              precision    recall  f1-score   support\n",
      "\n",
      "           b       1.00      1.00      1.00        11\n",
      "           g       1.00      0.90      0.95        10\n",
      "           r       0.99      1.00      1.00       116\n",
      "\n",
      "    accuracy                           0.99       137\n",
      "   macro avg       1.00      0.97      0.98       137\n",
      "weighted avg       0.99      0.99      0.99       137\n",
      "\n"
     ]
    }
   ],
   "source": [
    "Eval(neuralnetwork)"
   ]
  },
  {
   "cell_type": "code",
   "execution_count": 249,
   "metadata": {},
   "outputs": [
    {
     "name": "stdout",
     "output_type": "stream",
     "text": [
      "\n",
      " ***** PARAMETER MODIFICATIONS *****\n",
      "\n",
      "\n",
      " * NUMBER OF HIDDEN LAYERS : 3  *\n",
      "\n",
      "\n",
      " * SIZE OF EACH LAYER (LAYER 1, LAYER 2, ...) : (500, 500, 500)  *\n",
      "\n",
      "\n",
      " * CURRENT ACTIVATION FUNCTION : relu  *\n",
      "\n",
      "\n",
      "Train Accuracy :  0.9233576642335767\n",
      "\n",
      "Test Accuracy  :  0.9051094890510949\n",
      "\n",
      "Confusion matrix, without normalization\n"
     ]
    },
    {
     "data": {
      "image/png": "[encoded data removed]",
      "text/plain": [
       "<Figure size 432x288 with 2 Axes>"
      ]
     },
     "metadata": {
      "needs_background": "light"
     },
     "output_type": "display_data"
    },
    {
     "name": "stdout",
     "output_type": "stream",
     "text": [
      "\n",
      "Normalized confusion matrix\n"
     ]
    },
    {
     "data": {
      "image/png": "[encoded data removed]",
      "text/plain": [
       "<Figure size 432x288 with 2 Axes>"
      ]
     },
     "metadata": {
      "needs_background": "light"
     },
     "output_type": "display_data"
    },
    {
     "name": "stdout",
     "output_type": "stream",
     "text": [
      "\n",
      "CLASSIFICATION REPORT WITH PERCISION AND REACALL\n",
      "\n",
      "              precision    recall  f1-score   support\n",
      "\n",
      "           b       0.00      0.00      0.00        11\n",
      "           g       1.00      0.80      0.89        10\n",
      "           r       0.90      1.00      0.95       116\n",
      "\n",
      "    accuracy                           0.91       137\n",
      "   macro avg       0.63      0.60      0.61       137\n",
      "weighted avg       0.83      0.91      0.87       137\n",
      "\n"
     ]
    },
    {
     "name": "stderr",
     "output_type": "stream",
     "text": [
      "/anaconda3/envs/ml/lib/python3.6/site-packages/sklearn/metrics/classification.py:1437: UndefinedMetricWarning: Precision and F-score are ill-defined and being set to 0.0 in labels with no predicted samples.\n",
      "  'precision', 'predicted', average, warn_for)\n"
     ]
    }
   ],
   "source": [
    "from sklearn.neural_network import MLPClassifier\n",
    "\n",
    "clf = MLPClassifier(solver='lbfgs', alpha=1e-5,\n",
    "                    hidden_layer_sizes=(500,500,500), random_state=1, max_iter= 1000)\n",
    "neuralnetwork= clf.fit(X_train, y_train)  \n",
    "\n",
    "print('\\n ***** PARAMETER MODIFICATIONS *****\\n')\n",
    "\n",
    "print('\\n * NUMBER OF HIDDEN LAYERS :',len(clf.hidden_layer_sizes),' *\\n')\n",
    "print('\\n * SIZE OF EACH LAYER (LAYER 1, LAYER 2, ...) :',clf.hidden_layer_sizes,' *\\n')\n",
    "print('\\n * CURRENT ACTIVATION FUNCTION :',clf.activation,' *\\n')\n",
    "Eval(neuralnetwork)"
   ]
  },
  {
   "cell_type": "code",
   "execution_count": 250,
   "metadata": {},
   "outputs": [
    {
     "name": "stdout",
     "output_type": "stream",
     "text": [
      "\n",
      " ***** PARAMETER MODIFICATIONS *****\n",
      "\n",
      "\n",
      " * NUMBER OF HIDDEN LAYERS : 3  *\n",
      "\n",
      "\n",
      " * SIZE OF EACH LAYER (LAYER 1, LAYER 2, ...) : (1000, 1000, 1000)  *\n",
      "\n",
      "\n",
      " * CURRENT ACTIVATION FUNCTION : relu  *\n",
      "\n",
      "\n",
      "Train Accuracy :  1.0\n",
      "\n",
      "Test Accuracy  :  0.9927007299270073\n",
      "\n",
      "Confusion matrix, without normalization\n"
     ]
    },
    {
     "data": {
      "image/png": "[encoded data removed]",
      "text/plain": [
       "<Figure size 432x288 with 2 Axes>"
      ]
     },
     "metadata": {
      "needs_background": "light"
     },
     "output_type": "display_data"
    },
    {
     "name": "stdout",
     "output_type": "stream",
     "text": [
      "\n",
      "Normalized confusion matrix\n"
     ]
    },
    {
     "data": {
      "image/png": "[encoded data removed]",
      "text/plain": [
       "<Figure size 432x288 with 2 Axes>"
      ]
     },
     "metadata": {
      "needs_background": "light"
     },
     "output_type": "display_data"
    },
    {
     "name": "stdout",
     "output_type": "stream",
     "text": [
      "\n",
      "CLASSIFICATION REPORT WITH PERCISION AND REACALL\n",
      "\n",
      "              precision    recall  f1-score   support\n",
      "\n",
      "           b       1.00      1.00      1.00        11\n",
      "           g       1.00      0.90      0.95        10\n",
      "           r       0.99      1.00      1.00       116\n",
      "\n",
      "    accuracy                           0.99       137\n",
      "   macro avg       1.00      0.97      0.98       137\n",
      "weighted avg       0.99      0.99      0.99       137\n",
      "\n"
     ]
    }
   ],
   "source": [
    "from sklearn.neural_network import MLPClassifier\n",
    "\n",
    "clf = MLPClassifier(solver='lbfgs', alpha=1e-5,\n",
    "                    hidden_layer_sizes=(1000,1000,1000), random_state=1, max_iter= 1000)\n",
    "neuralnetwork= clf.fit(X_train, y_train)  \n",
    "\n",
    "print('\\n ***** PARAMETER MODIFICATIONS *****\\n')\n",
    "\n",
    "print('\\n * NUMBER OF HIDDEN LAYERS :',len(clf.hidden_layer_sizes),' *\\n')\n",
    "print('\\n * SIZE OF EACH LAYER (LAYER 1, LAYER 2, ...) :',clf.hidden_layer_sizes,' *\\n')\n",
    "print('\\n * CURRENT ACTIVATION FUNCTION :',clf.activation,' *\\n')\n",
    "Eval(neuralnetwork)"
   ]
  },
  {
   "cell_type": "markdown",
   "metadata": {},
   "source": [
    "#### Results: \n",
    "\n",
    "For whatever reason, using more neurons did not directly translate to better outcomes. In the case of going from 100 to 500 actually reduced the accuracy of our model."
   ]
  },
  {
   "cell_type": "markdown",
   "metadata": {},
   "source": [
    "### Changing the Activation Function"
   ]
  },
  {
   "cell_type": "code",
   "execution_count": 252,
   "metadata": {},
   "outputs": [
    {
     "name": "stdout",
     "output_type": "stream",
     "text": [
      "\n",
      " ***** PARAMETER MODIFICATIONS *****\n",
      "\n",
      "\n",
      " * NUMBER OF HIDDEN LAYERS : 3  *\n",
      "\n",
      "\n",
      " * SIZE OF EACH LAYER (LAYER 1, LAYER 2, ...) : (100, 100, 100)  *\n",
      "\n",
      "\n",
      " * CURRENT ACTIVATION FUNCTION : identity  *\n",
      "\n",
      "\n",
      "Train Accuracy :  0.8558394160583942\n",
      "\n",
      "Test Accuracy  :  0.8467153284671532\n",
      "\n",
      "Confusion matrix, without normalization\n"
     ]
    },
    {
     "data": {
      "image/png": "[encoded data removed]",
      "text/plain": [
       "<Figure size 432x288 with 2 Axes>"
      ]
     },
     "metadata": {
      "needs_background": "light"
     },
     "output_type": "display_data"
    },
    {
     "name": "stdout",
     "output_type": "stream",
     "text": [
      "\n",
      "Normalized confusion matrix\n"
     ]
    },
    {
     "data": {
      "image/png": "[encoded data removed]",
      "text/plain": [
       "<Figure size 432x288 with 2 Axes>"
      ]
     },
     "metadata": {
      "needs_background": "light"
     },
     "output_type": "display_data"
    },
    {
     "name": "stdout",
     "output_type": "stream",
     "text": [
      "\n",
      "CLASSIFICATION REPORT WITH PERCISION AND REACALL\n",
      "\n",
      "              precision    recall  f1-score   support\n",
      "\n",
      "           b       0.00      0.00      0.00        11\n",
      "           g       0.00      0.00      0.00        10\n",
      "           r       0.85      1.00      0.92       116\n",
      "\n",
      "    accuracy                           0.85       137\n",
      "   macro avg       0.28      0.33      0.31       137\n",
      "weighted avg       0.72      0.85      0.78       137\n",
      "\n"
     ]
    },
    {
     "name": "stderr",
     "output_type": "stream",
     "text": [
      "/anaconda3/envs/ml/lib/python3.6/site-packages/sklearn/metrics/classification.py:1437: UndefinedMetricWarning: Precision and F-score are ill-defined and being set to 0.0 in labels with no predicted samples.\n",
      "  'precision', 'predicted', average, warn_for)\n"
     ]
    }
   ],
   "source": [
    "from sklearn.neural_network import MLPClassifier\n",
    "\n",
    "clf = MLPClassifier(activation='identity', solver='lbfgs', alpha=1e-5,\n",
    "                    hidden_layer_sizes=(100,100,100), random_state=1, max_iter= 1000)\n",
    "neuralnetwork= clf.fit(X_train, y_train)  \n",
    "\n",
    "print('\\n ***** PARAMETER MODIFICATIONS *****\\n')\n",
    "\n",
    "print('\\n * NUMBER OF HIDDEN LAYERS :',len(clf.hidden_layer_sizes),' *\\n')\n",
    "print('\\n * SIZE OF EACH LAYER (LAYER 1, LAYER 2, ...) :',clf.hidden_layer_sizes,' *\\n')\n",
    "print('\\n * CURRENT ACTIVATION FUNCTION :',clf.activation,' *\\n')\n",
    "Eval(neuralnetwork)"
   ]
  },
  {
   "cell_type": "code",
   "execution_count": 253,
   "metadata": {},
   "outputs": [
    {
     "name": "stdout",
     "output_type": "stream",
     "text": [
      "\n",
      " ***** PARAMETER MODIFICATIONS *****\n",
      "\n",
      "\n",
      " * NUMBER OF HIDDEN LAYERS : 3  *\n",
      "\n",
      "\n",
      " * SIZE OF EACH LAYER (LAYER 1, LAYER 2, ...) : (100, 100, 100)  *\n",
      "\n",
      "\n",
      " * CURRENT ACTIVATION FUNCTION : logistic  *\n",
      "\n",
      "\n",
      "Train Accuracy :  0.8558394160583942\n",
      "\n",
      "Test Accuracy  :  0.8467153284671532\n",
      "\n",
      "Confusion matrix, without normalization\n"
     ]
    },
    {
     "data": {
      "image/png": "[encoded data removed]",
      "text/plain": [
       "<Figure size 432x288 with 2 Axes>"
      ]
     },
     "metadata": {
      "needs_background": "light"
     },
     "output_type": "display_data"
    },
    {
     "name": "stdout",
     "output_type": "stream",
     "text": [
      "\n",
      "Normalized confusion matrix\n"
     ]
    },
    {
     "data": {
      "image/png": "[encoded data removed]",
      "text/plain": [
       "<Figure size 432x288 with 2 Axes>"
      ]
     },
     "metadata": {
      "needs_background": "light"
     },
     "output_type": "display_data"
    },
    {
     "name": "stdout",
     "output_type": "stream",
     "text": [
      "\n",
      "CLASSIFICATION REPORT WITH PERCISION AND REACALL\n",
      "\n",
      "              precision    recall  f1-score   support\n",
      "\n",
      "           b       0.00      0.00      0.00        11\n",
      "           g       0.00      0.00      0.00        10\n",
      "           r       0.85      1.00      0.92       116\n",
      "\n",
      "    accuracy                           0.85       137\n",
      "   macro avg       0.28      0.33      0.31       137\n",
      "weighted avg       0.72      0.85      0.78       137\n",
      "\n"
     ]
    },
    {
     "name": "stderr",
     "output_type": "stream",
     "text": [
      "/anaconda3/envs/ml/lib/python3.6/site-packages/sklearn/metrics/classification.py:1437: UndefinedMetricWarning: Precision and F-score are ill-defined and being set to 0.0 in labels with no predicted samples.\n",
      "  'precision', 'predicted', average, warn_for)\n"
     ]
    }
   ],
   "source": [
    "from sklearn.neural_network import MLPClassifier\n",
    "\n",
    "clf = MLPClassifier(activation='logistic', solver='lbfgs', alpha=1e-5,\n",
    "                    hidden_layer_sizes=(100,100,100), random_state=1, max_iter= 1000)\n",
    "neuralnetwork= clf.fit(X_train, y_train)  \n",
    "\n",
    "print('\\n ***** PARAMETER MODIFICATIONS *****\\n')\n",
    "\n",
    "print('\\n * NUMBER OF HIDDEN LAYERS :',len(clf.hidden_layer_sizes),' *\\n')\n",
    "print('\\n * SIZE OF EACH LAYER (LAYER 1, LAYER 2, ...) :',clf.hidden_layer_sizes,' *\\n')\n",
    "print('\\n * CURRENT ACTIVATION FUNCTION :',clf.activation,' *\\n')\n",
    "Eval(neuralnetwork)"
   ]
  },
  {
   "cell_type": "code",
   "execution_count": 254,
   "metadata": {},
   "outputs": [
    {
     "name": "stdout",
     "output_type": "stream",
     "text": [
      "\n",
      " ***** PARAMETER MODIFICATIONS *****\n",
      "\n",
      "\n",
      " * NUMBER OF HIDDEN LAYERS : 3  *\n",
      "\n",
      "\n",
      " * SIZE OF EACH LAYER (LAYER 1, LAYER 2, ...) : (100, 100, 100)  *\n",
      "\n",
      "\n",
      " * CURRENT ACTIVATION FUNCTION : tanh  *\n",
      "\n",
      "\n",
      "Train Accuracy :  1.0\n",
      "\n",
      "Test Accuracy  :  0.9854014598540146\n",
      "\n",
      "Confusion matrix, without normalization\n"
     ]
    },
    {
     "data": {
      "image/png": "[encoded data removed]",
      "text/plain": [
       "<Figure size 432x288 with 2 Axes>"
      ]
     },
     "metadata": {
      "needs_background": "light"
     },
     "output_type": "display_data"
    },
    {
     "name": "stdout",
     "output_type": "stream",
     "text": [
      "\n",
      "Normalized confusion matrix\n"
     ]
    },
    {
     "data": {
      "image/png": "[encoded data removed]",
      "text/plain": [
       "<Figure size 432x288 with 2 Axes>"
      ]
     },
     "metadata": {
      "needs_background": "light"
     },
     "output_type": "display_data"
    },
    {
     "name": "stdout",
     "output_type": "stream",
     "text": [
      "\n",
      "CLASSIFICATION REPORT WITH PERCISION AND REACALL\n",
      "\n",
      "              precision    recall  f1-score   support\n",
      "\n",
      "           b       1.00      1.00      1.00        11\n",
      "           g       1.00      0.80      0.89        10\n",
      "           r       0.98      1.00      0.99       116\n",
      "\n",
      "    accuracy                           0.99       137\n",
      "   macro avg       0.99      0.93      0.96       137\n",
      "weighted avg       0.99      0.99      0.98       137\n",
      "\n"
     ]
    }
   ],
   "source": [
    "from sklearn.neural_network import MLPClassifier\n",
    "\n",
    "clf = MLPClassifier(activation='tanh', solver='lbfgs', alpha=1e-5,\n",
    "                    hidden_layer_sizes=(100,100,100), random_state=1, max_iter= 1000)\n",
    "neuralnetwork= clf.fit(X_train, y_train)  \n",
    "\n",
    "print('\\n ***** PARAMETER MODIFICATIONS *****\\n')\n",
    "\n",
    "print('\\n * NUMBER OF HIDDEN LAYERS :',len(clf.hidden_layer_sizes),' *\\n')\n",
    "print('\\n * SIZE OF EACH LAYER (LAYER 1, LAYER 2, ...) :',clf.hidden_layer_sizes,' *\\n')\n",
    "print('\\n * CURRENT ACTIVATION FUNCTION :',clf.activation,' *\\n')\n",
    "Eval(neuralnetwork)"
   ]
  },
  {
   "cell_type": "markdown",
   "metadata": {},
   "source": [
    "#### Results: \n",
    "\n",
    "Of the 3 different activation functions that I used tanh had the best result, however, the Relu function that I had ran previously actually had ran previously had the best outcome so far."
   ]
  },
  {
   "cell_type": "markdown",
   "metadata": {},
   "source": [
    "# Changing number of layers"
   ]
  },
  {
   "cell_type": "code",
   "execution_count": 257,
   "metadata": {},
   "outputs": [
    {
     "name": "stdout",
     "output_type": "stream",
     "text": [
      "\n",
      " ***** PARAMETER MODIFICATIONS *****\n",
      "\n",
      "\n",
      " * NUMBER OF HIDDEN LAYERS : 2  *\n",
      "\n",
      "\n",
      " * SIZE OF EACH LAYER (LAYER 1, LAYER 2, ...) : (100, 100)  *\n",
      "\n",
      "\n",
      " * CURRENT ACTIVATION FUNCTION : relu  *\n",
      "\n",
      "\n",
      "Train Accuracy :  1.0\n",
      "\n",
      "Test Accuracy  :  0.9854014598540146\n",
      "\n",
      "Confusion matrix, without normalization\n"
     ]
    },
    {
     "data": {
      "image/png": "[encoded data removed]",
      "text/plain": [
       "<Figure size 432x288 with 2 Axes>"
      ]
     },
     "metadata": {
      "needs_background": "light"
     },
     "output_type": "display_data"
    },
    {
     "name": "stdout",
     "output_type": "stream",
     "text": [
      "\n",
      "Normalized confusion matrix\n"
     ]
    },
    {
     "data": {
      "image/png": "[encoded data removed]",
      "text/plain": [
       "<Figure size 432x288 with 2 Axes>"
      ]
     },
     "metadata": {
      "needs_background": "light"
     },
     "output_type": "display_data"
    },
    {
     "name": "stdout",
     "output_type": "stream",
     "text": [
      "\n",
      "CLASSIFICATION REPORT WITH PERCISION AND REACALL\n",
      "\n",
      "              precision    recall  f1-score   support\n",
      "\n",
      "           b       1.00      1.00      1.00        11\n",
      "           g       1.00      0.80      0.89        10\n",
      "           r       0.98      1.00      0.99       116\n",
      "\n",
      "    accuracy                           0.99       137\n",
      "   macro avg       0.99      0.93      0.96       137\n",
      "weighted avg       0.99      0.99      0.98       137\n",
      "\n"
     ]
    }
   ],
   "source": [
    "from sklearn.neural_network import MLPClassifier\n",
    "\n",
    "clf = MLPClassifier(activation='relu', solver='lbfgs', alpha=1e-5,\n",
    "                    hidden_layer_sizes=(100,100), random_state=1, max_iter= 1000)\n",
    "neuralnetwork= clf.fit(X_train, y_train)  \n",
    "\n",
    "print('\\n ***** PARAMETER MODIFICATIONS *****\\n')\n",
    "\n",
    "print('\\n * NUMBER OF HIDDEN LAYERS :',len(clf.hidden_layer_sizes),' *\\n')\n",
    "print('\\n * SIZE OF EACH LAYER (LAYER 1, LAYER 2, ...) :',clf.hidden_layer_sizes,' *\\n')\n",
    "print('\\n * CURRENT ACTIVATION FUNCTION :',clf.activation,' *\\n')\n",
    "Eval(neuralnetwork)"
   ]
  },
  {
   "cell_type": "code",
   "execution_count": 258,
   "metadata": {},
   "outputs": [
    {
     "name": "stdout",
     "output_type": "stream",
     "text": [
      "\n",
      " ***** PARAMETER MODIFICATIONS *****\n",
      "\n",
      "\n",
      " * NUMBER OF HIDDEN LAYERS : 5  *\n",
      "\n",
      "\n",
      " * SIZE OF EACH LAYER (LAYER 1, LAYER 2, ...) : (100, 100, 100, 100, 100)  *\n",
      "\n",
      "\n",
      " * CURRENT ACTIVATION FUNCTION : relu  *\n",
      "\n",
      "\n",
      "Train Accuracy :  1.0\n",
      "\n",
      "Test Accuracy  :  1.0\n",
      "\n",
      "Confusion matrix, without normalization\n"
     ]
    },
    {
     "data": {
      "image/png": "[encoded data removed]",
      "text/plain": [
       "<Figure size 432x288 with 2 Axes>"
      ]
     },
     "metadata": {
      "needs_background": "light"
     },
     "output_type": "display_data"
    },
    {
     "name": "stdout",
     "output_type": "stream",
     "text": [
      "\n",
      "Normalized confusion matrix\n"
     ]
    },
    {
     "data": {
      "image/png": "[encoded data removed]",
      "text/plain": [
       "<Figure size 432x288 with 2 Axes>"
      ]
     },
     "metadata": {
      "needs_background": "light"
     },
     "output_type": "display_data"
    },
    {
     "name": "stdout",
     "output_type": "stream",
     "text": [
      "\n",
      "CLASSIFICATION REPORT WITH PERCISION AND REACALL\n",
      "\n",
      "              precision    recall  f1-score   support\n",
      "\n",
      "           b       1.00      1.00      1.00        11\n",
      "           g       1.00      1.00      1.00        10\n",
      "           r       1.00      1.00      1.00       116\n",
      "\n",
      "    accuracy                           1.00       137\n",
      "   macro avg       1.00      1.00      1.00       137\n",
      "weighted avg       1.00      1.00      1.00       137\n",
      "\n"
     ]
    }
   ],
   "source": [
    "from sklearn.neural_network import MLPClassifier\n",
    "\n",
    "clf = MLPClassifier(activation='relu', solver='lbfgs', alpha=1e-5,\n",
    "                    hidden_layer_sizes=(100,100,100,100,100), random_state=1, max_iter= 1000)\n",
    "neuralnetwork= clf.fit(X_train, y_train)  \n",
    "\n",
    "print('\\n ***** PARAMETER MODIFICATIONS *****\\n')\n",
    "\n",
    "print('\\n * NUMBER OF HIDDEN LAYERS :',len(clf.hidden_layer_sizes),' *\\n')\n",
    "print('\\n * SIZE OF EACH LAYER (LAYER 1, LAYER 2, ...) :',clf.hidden_layer_sizes,' *\\n')\n",
    "print('\\n * CURRENT ACTIVATION FUNCTION :',clf.activation,' *\\n')\n",
    "Eval(neuralnetwork)"
   ]
  },
  {
   "cell_type": "code",
   "execution_count": 259,
   "metadata": {},
   "outputs": [
    {
     "name": "stdout",
     "output_type": "stream",
     "text": [
      "\n",
      " ***** PARAMETER MODIFICATIONS *****\n",
      "\n",
      "\n",
      " * NUMBER OF HIDDEN LAYERS : 9  *\n",
      "\n",
      "\n",
      " * SIZE OF EACH LAYER (LAYER 1, LAYER 2, ...) : (100, 100, 100, 100, 100, 100, 100, 100, 100)  *\n",
      "\n",
      "\n",
      " * CURRENT ACTIVATION FUNCTION : relu  *\n",
      "\n",
      "\n",
      "Train Accuracy :  0.8941605839416058\n",
      "\n",
      "Test Accuracy  :  0.8905109489051095\n",
      "\n",
      "Confusion matrix, without normalization\n"
     ]
    },
    {
     "data": {
      "image/png": "[encoded data removed]",
      "text/plain": [
       "<Figure size 432x288 with 2 Axes>"
      ]
     },
     "metadata": {
      "needs_background": "light"
     },
     "output_type": "display_data"
    },
    {
     "name": "stdout",
     "output_type": "stream",
     "text": [
      "\n",
      "Normalized confusion matrix\n"
     ]
    },
    {
     "data": {
      "image/png": "[encoded data removed]",
      "text/plain": [
       "<Figure size 432x288 with 2 Axes>"
      ]
     },
     "metadata": {
      "needs_background": "light"
     },
     "output_type": "display_data"
    },
    {
     "name": "stdout",
     "output_type": "stream",
     "text": [
      "\n",
      "CLASSIFICATION REPORT WITH PERCISION AND REACALL\n",
      "\n",
      "              precision    recall  f1-score   support\n",
      "\n",
      "           b       0.00      0.00      0.00        11\n",
      "           g       1.00      0.60      0.75        10\n",
      "           r       0.89      1.00      0.94       116\n",
      "\n",
      "    accuracy                           0.89       137\n",
      "   macro avg       0.63      0.53      0.56       137\n",
      "weighted avg       0.82      0.89      0.85       137\n",
      "\n"
     ]
    },
    {
     "name": "stderr",
     "output_type": "stream",
     "text": [
      "/anaconda3/envs/ml/lib/python3.6/site-packages/sklearn/metrics/classification.py:1437: UndefinedMetricWarning: Precision and F-score are ill-defined and being set to 0.0 in labels with no predicted samples.\n",
      "  'precision', 'predicted', average, warn_for)\n"
     ]
    }
   ],
   "source": [
    "from sklearn.neural_network import MLPClassifier\n",
    "\n",
    "clf = MLPClassifier(activation='relu', solver='lbfgs', alpha=1e-5,\n",
    "                    hidden_layer_sizes=(100,100,100,100,100,100,100,100,100), random_state=1, max_iter= 1000)\n",
    "neuralnetwork= clf.fit(X_train, y_train)  \n",
    "\n",
    "print('\\n ***** PARAMETER MODIFICATIONS *****\\n')\n",
    "\n",
    "print('\\n * NUMBER OF HIDDEN LAYERS :',len(clf.hidden_layer_sizes),' *\\n')\n",
    "print('\\n * SIZE OF EACH LAYER (LAYER 1, LAYER 2, ...) :',clf.hidden_layer_sizes,' *\\n')\n",
    "print('\\n * CURRENT ACTIVATION FUNCTION :',clf.activation,' *\\n')\n",
    "Eval(neuralnetwork)"
   ]
  },
  {
   "cell_type": "markdown",
   "metadata": {},
   "source": [
    "#### Results: \n",
    "\n",
    "USING RELU WITH 5 LAYERS OF 100 NEURONS I ACHIEVED 100% ACCURACY!"
   ]
  },
  {
   "cell_type": "markdown",
   "metadata": {},
   "source": [
    "# Conclustions:\n",
    "\n",
    "The least complex and most accurate model configuration that I have run thus far has been the following:\n",
    "\n",
    "Number of hidden layers: 5\n",
    "\n",
    "Number of neurons for each layer: 100, 100, 100\n",
    "\n",
    "Activation Funcltion: Relu\n",
    "\n"
   ]
  },
  {
   "cell_type": "markdown",
   "metadata": {},
   "source": [
    "# PART 2"
   ]
  },
  {
   "cell_type": "markdown",
   "metadata": {},
   "source": [
    "# 1. {X3,X4}\n"
   ]
  },
  {
   "cell_type": "code",
   "execution_count": 267,
   "metadata": {},
   "outputs": [
    {
     "name": "stdout",
     "output_type": "stream",
     "text": [
      "\n",
      " ***** PARAMETER MODIFICATIONS *****\n",
      "\n",
      "\n",
      " * NUMBER OF HIDDEN LAYERS : 3  *\n",
      "\n",
      "\n",
      " * SIZE OF EACH LAYER (LAYER 1, LAYER 2, ...) : (100, 100, 100)  *\n",
      "\n",
      "\n",
      " * CURRENT ACTIVATION FUNCTION : relu  *\n",
      "\n",
      "\n",
      "Train Accuracy :  1.0\n",
      "\n",
      "Test Accuracy  :  0.9927007299270073\n",
      "\n",
      "Confusion matrix, without normalization\n"
     ]
    },
    {
     "data": {
      "image/png": "[encoded data removed]",
      "text/plain": [
       "<Figure size 432x288 with 2 Axes>"
      ]
     },
     "metadata": {
      "needs_background": "light"
     },
     "output_type": "display_data"
    },
    {
     "name": "stdout",
     "output_type": "stream",
     "text": [
      "\n",
      "Normalized confusion matrix\n"
     ]
    },
    {
     "data": {
      "image/png": "[encoded data removed]",
      "text/plain": [
       "<Figure size 432x288 with 2 Axes>"
      ]
     },
     "metadata": {
      "needs_background": "light"
     },
     "output_type": "display_data"
    },
    {
     "name": "stdout",
     "output_type": "stream",
     "text": [
      "\n",
      "CLASSIFICATION REPORT WITH PERCISION AND REACALL\n",
      "\n",
      "              precision    recall  f1-score   support\n",
      "\n",
      "           b       1.00      1.00      1.00         8\n",
      "           g       1.00      0.83      0.91         6\n",
      "           r       0.99      1.00      1.00       123\n",
      "\n",
      "    accuracy                           0.99       137\n",
      "   macro avg       1.00      0.94      0.97       137\n",
      "weighted avg       0.99      0.99      0.99       137\n",
      "\n"
     ]
    }
   ],
   "source": [
    "data = pd.read_csv('train_setpreped.csv')\n",
    "x = data.drop(['xval', 'yval','x5','color'], axis='columns')\n",
    "y = data['color']\n",
    "X_train, X_test, y_train, y_test = train_test_split(x, y, random_state=0, test_size=0.20)\n",
    "scalar = StandardScaler()\n",
    "scalar.fit(X_train)\n",
    "X_train = scalar.transform(X_train)\n",
    "X_test = scalar.transform(X_test)\n",
    "\n",
    "clf = MLPClassifier(solver='lbfgs', alpha=1e-5,\n",
    "                    hidden_layer_sizes=(100,100,100), random_state=1, max_iter= 1000)\n",
    "neuralnetwork= clf.fit(X_train, y_train)  \n",
    "\n",
    "print('\\n ***** PARAMETER MODIFICATIONS *****\\n')\n",
    "\n",
    "print('\\n * NUMBER OF HIDDEN LAYERS :',len(clf.hidden_layer_sizes),' *\\n')\n",
    "print('\\n * SIZE OF EACH LAYER (LAYER 1, LAYER 2, ...) :',clf.hidden_layer_sizes,' *\\n')\n",
    "print('\\n * CURRENT ACTIVATION FUNCTION :',clf.activation,' *\\n')\n",
    "Eval(neuralnetwork)"
   ]
  },
  {
   "cell_type": "markdown",
   "metadata": {},
   "source": [
    "# 2. {X3,X5}\n"
   ]
  },
  {
   "cell_type": "code",
   "execution_count": 268,
   "metadata": {},
   "outputs": [
    {
     "name": "stdout",
     "output_type": "stream",
     "text": [
      "\n",
      " ***** PARAMETER MODIFICATIONS *****\n",
      "\n",
      "\n",
      " * NUMBER OF HIDDEN LAYERS : 3  *\n",
      "\n",
      "\n",
      " * SIZE OF EACH LAYER (LAYER 1, LAYER 2, ...) : (100, 100, 100)  *\n",
      "\n",
      "\n",
      " * CURRENT ACTIVATION FUNCTION : relu  *\n",
      "\n",
      "\n",
      "Train Accuracy :  0.9963503649635036\n",
      "\n",
      "Test Accuracy  :  0.9854014598540146\n",
      "\n",
      "Confusion matrix, without normalization\n"
     ]
    },
    {
     "data": {
      "image/png": "[encoded data removed]",
      "text/plain": [
       "<Figure size 432x288 with 2 Axes>"
      ]
     },
     "metadata": {
      "needs_background": "light"
     },
     "output_type": "display_data"
    },
    {
     "name": "stdout",
     "output_type": "stream",
     "text": [
      "\n",
      "Normalized confusion matrix\n"
     ]
    },
    {
     "data": {
      "image/png": "[encoded data removed]",
      "text/plain": [
       "<Figure size 432x288 with 2 Axes>"
      ]
     },
     "metadata": {
      "needs_background": "light"
     },
     "output_type": "display_data"
    },
    {
     "name": "stdout",
     "output_type": "stream",
     "text": [
      "\n",
      "CLASSIFICATION REPORT WITH PERCISION AND REACALL\n",
      "\n",
      "              precision    recall  f1-score   support\n",
      "\n",
      "           b       1.00      1.00      1.00         8\n",
      "           g       0.83      0.83      0.83         6\n",
      "           r       0.99      0.99      0.99       123\n",
      "\n",
      "    accuracy                           0.99       137\n",
      "   macro avg       0.94      0.94      0.94       137\n",
      "weighted avg       0.99      0.99      0.99       137\n",
      "\n"
     ]
    }
   ],
   "source": [
    "data = pd.read_csv('train_setpreped.csv')\n",
    "x = data.drop(['xval', 'yval','x4','color'], axis='columns')\n",
    "y = data['color']\n",
    "X_train, X_test, y_train, y_test = train_test_split(x, y, random_state=0, test_size=0.20)\n",
    "scalar = StandardScaler()\n",
    "scalar.fit(X_train)\n",
    "X_train = scalar.transform(X_train)\n",
    "X_test = scalar.transform(X_test)\n",
    "\n",
    "clf = MLPClassifier(solver='lbfgs', alpha=1e-5,\n",
    "                    hidden_layer_sizes=(100,100,100), random_state=1, max_iter= 1000)\n",
    "neuralnetwork= clf.fit(X_train, y_train)  \n",
    "\n",
    "print('\\n ***** PARAMETER MODIFICATIONS *****\\n')\n",
    "\n",
    "print('\\n * NUMBER OF HIDDEN LAYERS :',len(clf.hidden_layer_sizes),' *\\n')\n",
    "print('\\n * SIZE OF EACH LAYER (LAYER 1, LAYER 2, ...) :',clf.hidden_layer_sizes,' *\\n')\n",
    "print('\\n * CURRENT ACTIVATION FUNCTION :',clf.activation,' *\\n')\n",
    "Eval(neuralnetwork)"
   ]
  },
  {
   "cell_type": "markdown",
   "metadata": {},
   "source": [
    "# 3. {X3,X4,X5}\n"
   ]
  },
  {
   "cell_type": "code",
   "execution_count": 272,
   "metadata": {},
   "outputs": [
    {
     "name": "stdout",
     "output_type": "stream",
     "text": [
      "\n",
      " ***** PARAMETER MODIFICATIONS *****\n",
      "\n",
      "\n",
      " * NUMBER OF HIDDEN LAYERS : 3  *\n",
      "\n",
      "\n",
      " * SIZE OF EACH LAYER (LAYER 1, LAYER 2, ...) : (100, 100, 100)  *\n",
      "\n",
      "\n",
      " * CURRENT ACTIVATION FUNCTION : relu  *\n",
      "\n",
      "\n",
      "Train Accuracy :  1.0\n",
      "\n",
      "Test Accuracy  :  0.9927007299270073\n",
      "\n",
      "Confusion matrix, without normalization\n"
     ]
    },
    {
     "data": {
      "image/png": "[encoded data removed]",
      "text/plain": [
       "<Figure size 432x288 with 2 Axes>"
      ]
     },
     "metadata": {
      "needs_background": "light"
     },
     "output_type": "display_data"
    },
    {
     "name": "stdout",
     "output_type": "stream",
     "text": [
      "\n",
      "Normalized confusion matrix\n"
     ]
    },
    {
     "data": {
      "image/png": "[encoded data removed]",
      "text/plain": [
       "<Figure size 432x288 with 2 Axes>"
      ]
     },
     "metadata": {
      "needs_background": "light"
     },
     "output_type": "display_data"
    },
    {
     "name": "stdout",
     "output_type": "stream",
     "text": [
      "\n",
      "CLASSIFICATION REPORT WITH PERCISION AND REACALL\n",
      "\n",
      "              precision    recall  f1-score   support\n",
      "\n",
      "           b       1.00      1.00      1.00         8\n",
      "           g       1.00      0.83      0.91         6\n",
      "           r       0.99      1.00      1.00       123\n",
      "\n",
      "    accuracy                           0.99       137\n",
      "   macro avg       1.00      0.94      0.97       137\n",
      "weighted avg       0.99      0.99      0.99       137\n",
      "\n"
     ]
    }
   ],
   "source": [
    "data = pd.read_csv('train_setpreped.csv')\n",
    "x = data.drop(['xval','yval','color'], axis='columns')\n",
    "y = data['color']\n",
    "X_train, X_test, y_train, y_test = train_test_split(x, y, random_state=0, test_size=0.20)\n",
    "scalar = StandardScaler()\n",
    "scalar.fit(X_train)\n",
    "X_train = scalar.transform(X_train)\n",
    "X_test = scalar.transform(X_test)\n",
    "\n",
    "clf = MLPClassifier(solver='lbfgs', alpha=1e-5,\n",
    "                    hidden_layer_sizes=(100,100,100), random_state=1, max_iter= 1000)\n",
    "neuralnetwork= clf.fit(X_train, y_train)  \n",
    "\n",
    "print('\\n ***** PARAMETER MODIFICATIONS *****\\n')\n",
    "\n",
    "print('\\n * NUMBER OF HIDDEN LAYERS :',len(clf.hidden_layer_sizes),' *\\n')\n",
    "print('\\n * SIZE OF EACH LAYER (LAYER 1, LAYER 2, ...) :',clf.hidden_layer_sizes,' *\\n')\n",
    "print('\\n * CURRENT ACTIVATION FUNCTION :',clf.activation,' *\\n')\n",
    "Eval(neuralnetwork)"
   ]
  },
  {
   "cell_type": "markdown",
   "metadata": {},
   "source": [
    "# 4. {X1,X2,X3,X4,X5}"
   ]
  },
  {
   "cell_type": "code",
   "execution_count": 273,
   "metadata": {},
   "outputs": [
    {
     "name": "stdout",
     "output_type": "stream",
     "text": [
      "\n",
      " ***** PARAMETER MODIFICATIONS *****\n",
      "\n",
      "\n",
      " * NUMBER OF HIDDEN LAYERS : 3  *\n",
      "\n",
      "\n",
      " * SIZE OF EACH LAYER (LAYER 1, LAYER 2, ...) : (100, 100, 100)  *\n",
      "\n",
      "\n",
      " * CURRENT ACTIVATION FUNCTION : relu  *\n",
      "\n",
      "\n",
      "Train Accuracy :  1.0\n",
      "\n",
      "Test Accuracy  :  0.9781021897810219\n",
      "\n",
      "Confusion matrix, without normalization\n"
     ]
    },
    {
     "data": {
      "image/png": "[encoded data removed]",
      "text/plain": [
       "<Figure size 432x288 with 2 Axes>"
      ]
     },
     "metadata": {
      "needs_background": "light"
     },
     "output_type": "display_data"
    },
    {
     "name": "stdout",
     "output_type": "stream",
     "text": [
      "\n",
      "Normalized confusion matrix\n"
     ]
    },
    {
     "data": {
      "image/png": "[encoded data removed]",
      "text/plain": [
       "<Figure size 432x288 with 2 Axes>"
      ]
     },
     "metadata": {
      "needs_background": "light"
     },
     "output_type": "display_data"
    },
    {
     "name": "stdout",
     "output_type": "stream",
     "text": [
      "\n",
      "CLASSIFICATION REPORT WITH PERCISION AND REACALL\n",
      "\n",
      "              precision    recall  f1-score   support\n",
      "\n",
      "           b       1.00      1.00      1.00         8\n",
      "           g       0.80      0.67      0.73         6\n",
      "           r       0.98      0.99      0.99       123\n",
      "\n",
      "    accuracy                           0.98       137\n",
      "   macro avg       0.93      0.89      0.91       137\n",
      "weighted avg       0.98      0.98      0.98       137\n",
      "\n"
     ]
    }
   ],
   "source": [
    "data = pd.read_csv('train_setpreped.csv')\n",
    "x = data.drop(['color'], axis='columns')\n",
    "y = data['color']\n",
    "X_train, X_test, y_train, y_test = train_test_split(x, y, random_state=0, test_size=0.20)\n",
    "scalar = StandardScaler()\n",
    "scalar.fit(X_train)\n",
    "X_train = scalar.transform(X_train)\n",
    "X_test = scalar.transform(X_test)\n",
    "\n",
    "clf = MLPClassifier(solver='lbfgs', alpha=1e-5,\n",
    "                    hidden_layer_sizes=(100,100,100), random_state=1, max_iter= 1000)\n",
    "neuralnetwork= clf.fit(X_train, y_train)  \n",
    "\n",
    "print('\\n ***** PARAMETER MODIFICATIONS *****\\n')\n",
    "\n",
    "print('\\n * NUMBER OF HIDDEN LAYERS :',len(clf.hidden_layer_sizes),' *\\n')\n",
    "print('\\n * SIZE OF EACH LAYER (LAYER 1, LAYER 2, ...) :',clf.hidden_layer_sizes,' *\\n')\n",
    "print('\\n * CURRENT ACTIVATION FUNCTION :',clf.activation,' *\\n')\n",
    "Eval(neuralnetwork)"
   ]
  },
  {
   "cell_type": "markdown",
   "metadata": {},
   "source": [
    "## Final thoughts. \n",
    "\n",
    "The best model performing feature set was the first with just X3,x4 with an accuracy of 99.27%. In this case increasing the number of features did not neccessraily lead to a better outcome. Regardless nearly all models ran in this reopor had relatively high accuracy, recall, and percision. This is either due to the simplicity of the data set (paterns in the data seem to be mathematic in nature) or the fact that neural nets perform very well in this type of application. Using 5 layers of 100 neurons with relu I was actually able to achieve 100% acuracy on the original data set."
   ]
  },
  {
   "cell_type": "code",
   "execution_count": null,
   "metadata": {},
   "outputs": [],
   "source": []
  }
 ],
 "metadata": {
  "kernelspec": {
   "display_name": "Python 3",
   "language": "python",
   "name": "python3"
  },
  "language_info": {
   "codemirror_mode": {
    "name": "ipython",
    "version": 3
   },
   "file_extension": ".py",
   "mimetype": "text/x-python",
   "name": "python",
   "nbconvert_exporter": "python",
   "pygments_lexer": "ipython3",
   "version": "3.6.8"
  }
 },
 "nbformat": 4,
 "nbformat_minor": 2
}
