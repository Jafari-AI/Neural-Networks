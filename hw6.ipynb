{
 "cells": [
  {
   "cell_type": "code",
   "execution_count": 33,
   "metadata": {},
   "outputs": [],
   "source": [
    "from sklearn.preprocessing import LabelEncoder\n",
    "from sklearn.externals.six import StringIO  \n",
    "from IPython.display import Image  \n",
    "from sklearn.tree import export_graphviz\n",
    "import pydotplus\n",
    "from sklearn.ensemble import RandomForestClassifier\n",
    "from matplotlib import pyplot as plt\n",
    "from sklearn.metrics import accuracy_score\n",
    "from sklearn.metrics import confusion_matrix\n",
    "from sklearn.metrics import classification_report\n",
    "from sklearn.model_selection import train_test_split"
   ]
  },
  {
   "cell_type": "code",
   "execution_count": 34,
   "metadata": {},
   "outputs": [
    {
     "data": {
      "text/html": [
       "<div>\n",
       "<style scoped>\n",
       "    .dataframe tbody tr th:only-of-type {\n",
       "        vertical-align: middle;\n",
       "    }\n",
       "\n",
       "    .dataframe tbody tr th {\n",
       "        vertical-align: top;\n",
       "    }\n",
       "\n",
       "    .dataframe thead th {\n",
       "        text-align: right;\n",
       "    }\n",
       "</style>\n",
       "<table border=\"1\" class=\"dataframe\">\n",
       "  <thead>\n",
       "    <tr style=\"text-align: right;\">\n",
       "      <th></th>\n",
       "      <th>xval</th>\n",
       "      <th>yval</th>\n",
       "      <th>color</th>\n",
       "    </tr>\n",
       "  </thead>\n",
       "  <tbody>\n",
       "    <tr>\n",
       "      <th>0</th>\n",
       "      <td>16.263398</td>\n",
       "      <td>13.299206</td>\n",
       "      <td>r</td>\n",
       "    </tr>\n",
       "    <tr>\n",
       "      <th>1</th>\n",
       "      <td>0.775408</td>\n",
       "      <td>23.986692</td>\n",
       "      <td>r</td>\n",
       "    </tr>\n",
       "    <tr>\n",
       "      <th>2</th>\n",
       "      <td>29.170503</td>\n",
       "      <td>-3.287474</td>\n",
       "      <td>r</td>\n",
       "    </tr>\n",
       "    <tr>\n",
       "      <th>3</th>\n",
       "      <td>6.739044</td>\n",
       "      <td>-28.033329</td>\n",
       "      <td>r</td>\n",
       "    </tr>\n",
       "    <tr>\n",
       "      <th>4</th>\n",
       "      <td>3.216100</td>\n",
       "      <td>22.013695</td>\n",
       "      <td>r</td>\n",
       "    </tr>\n",
       "  </tbody>\n",
       "</table>\n",
       "</div>"
      ],
      "text/plain": [
       "        xval       yval color\n",
       "0  16.263398  13.299206     r\n",
       "1   0.775408  23.986692     r\n",
       "2  29.170503  -3.287474     r\n",
       "3   6.739044 -28.033329     r\n",
       "4   3.216100  22.013695     r"
      ]
     },
     "execution_count": 34,
     "metadata": {},
     "output_type": "execute_result"
    }
   ],
   "source": [
    "import numpy as np\n",
    "import pandas as pd\n",
    "import matplotlib.pyplot as plt\n",
    "\n",
    "df = pd.read_csv(\"train_set.csv\")\n",
    "df.head(5)\n"
   ]
  },
  {
   "cell_type": "code",
   "execution_count": 35,
   "metadata": {},
   "outputs": [],
   "source": [
    "\n",
    "\n",
    "from sklearn.model_selection import train_test_split\n",
    "from sklearn.preprocessing import OneHotEncoder, StandardScaler\n",
    "\n",
    "X = df.drop(['color'], axis='columns')\n",
    "y = df['color']\n",
    "\n",
    "names = ['r', 'g', 'b']\n",
    "feature_names = ['xval','yval']\n",
    "\n",
    "# One hot encoding\n",
    "enc = OneHotEncoder()\n",
    "Y = enc.fit_transform(y[:, np.newaxis]).toarray()\n",
    "\n",
    "# Scale data to have mean 0 and variance 1 \n",
    "# which is importance for convergence of the neural network\n",
    "scaler = StandardScaler()\n",
    "X_scaled = scaler.fit_transform(X)\n",
    "\n",
    "# Split the data set into training and testing\n",
    "X_train, X_test, Y_train, Y_test = train_test_split(\n",
    "    X_scaled, Y, test_size=0.5, random_state=2)\n",
    "\n",
    "n_features = X.shape[1]\n",
    "n_classes = Y.shape[1]"
   ]
  },
  {
   "cell_type": "code",
   "execution_count": 36,
   "metadata": {},
   "outputs": [],
   "source": [
    "X_train, X_test, y_train, y_test = train_test_split(X, y,test_size=0.2)"
   ]
  },
  {
   "cell_type": "code",
   "execution_count": 37,
   "metadata": {},
   "outputs": [
    {
     "name": "stdout",
     "output_type": "stream",
     "text": [
      "<class 'pandas.core.frame.DataFrame'>\n",
      "Int64Index: 548 entries, 506 to 619\n",
      "Data columns (total 2 columns):\n",
      "xval    548 non-null float64\n",
      "yval    548 non-null float64\n",
      "dtypes: float64(2)\n",
      "memory usage: 12.8 KB\n",
      "None\n"
     ]
    }
   ],
   "source": [
    "print(X_train.info())"
   ]
  },
  {
   "cell_type": "code",
   "execution_count": 38,
   "metadata": {},
   "outputs": [
    {
     "data": {
      "text/plain": [
       "array([[ 0.82771544,  0.65084789],\n",
       "       [ 0.00946273,  1.22006646],\n",
       "       [ 1.50961626, -0.23256342],\n",
       "       ...,\n",
       "       [-1.16914843, -0.45142361],\n",
       "       [ 0.26961011,  1.57986693],\n",
       "       [ 0.58832844,  0.97722255]])"
      ]
     },
     "execution_count": 38,
     "metadata": {},
     "output_type": "execute_result"
    }
   ],
   "source": [
    "X_scaled\n"
   ]
  },
  {
   "cell_type": "code",
   "execution_count": 39,
   "metadata": {},
   "outputs": [
    {
     "data": {
      "text/html": [
       "<div>\n",
       "<style scoped>\n",
       "    .dataframe tbody tr th:only-of-type {\n",
       "        vertical-align: middle;\n",
       "    }\n",
       "\n",
       "    .dataframe tbody tr th {\n",
       "        vertical-align: top;\n",
       "    }\n",
       "\n",
       "    .dataframe thead th {\n",
       "        text-align: right;\n",
       "    }\n",
       "</style>\n",
       "<table border=\"1\" class=\"dataframe\">\n",
       "  <thead>\n",
       "    <tr style=\"text-align: right;\">\n",
       "      <th></th>\n",
       "      <th>xval</th>\n",
       "      <th>yval</th>\n",
       "    </tr>\n",
       "  </thead>\n",
       "  <tbody>\n",
       "    <tr>\n",
       "      <th>506</th>\n",
       "      <td>10.657675</td>\n",
       "      <td>-20.531530</td>\n",
       "    </tr>\n",
       "    <tr>\n",
       "      <th>276</th>\n",
       "      <td>-1.597079</td>\n",
       "      <td>0.535253</td>\n",
       "    </tr>\n",
       "    <tr>\n",
       "      <th>360</th>\n",
       "      <td>19.970632</td>\n",
       "      <td>19.682615</td>\n",
       "    </tr>\n",
       "    <tr>\n",
       "      <th>572</th>\n",
       "      <td>18.737722</td>\n",
       "      <td>12.619109</td>\n",
       "    </tr>\n",
       "    <tr>\n",
       "      <th>46</th>\n",
       "      <td>13.868142</td>\n",
       "      <td>26.198832</td>\n",
       "    </tr>\n",
       "    <tr>\n",
       "      <th>565</th>\n",
       "      <td>1.033967</td>\n",
       "      <td>-21.197991</td>\n",
       "    </tr>\n",
       "    <tr>\n",
       "      <th>57</th>\n",
       "      <td>-40.559928</td>\n",
       "      <td>-26.151478</td>\n",
       "    </tr>\n",
       "    <tr>\n",
       "      <th>105</th>\n",
       "      <td>-9.721669</td>\n",
       "      <td>-25.974789</td>\n",
       "    </tr>\n",
       "    <tr>\n",
       "      <th>451</th>\n",
       "      <td>9.913082</td>\n",
       "      <td>32.260374</td>\n",
       "    </tr>\n",
       "    <tr>\n",
       "      <th>210</th>\n",
       "      <td>0.479928</td>\n",
       "      <td>-21.416955</td>\n",
       "    </tr>\n",
       "    <tr>\n",
       "      <th>266</th>\n",
       "      <td>22.442465</td>\n",
       "      <td>-17.648869</td>\n",
       "    </tr>\n",
       "    <tr>\n",
       "      <th>201</th>\n",
       "      <td>23.113932</td>\n",
       "      <td>10.369649</td>\n",
       "    </tr>\n",
       "    <tr>\n",
       "      <th>591</th>\n",
       "      <td>10.361695</td>\n",
       "      <td>-25.349381</td>\n",
       "    </tr>\n",
       "    <tr>\n",
       "      <th>354</th>\n",
       "      <td>-10.781156</td>\n",
       "      <td>-26.890199</td>\n",
       "    </tr>\n",
       "    <tr>\n",
       "      <th>370</th>\n",
       "      <td>23.326561</td>\n",
       "      <td>-3.176712</td>\n",
       "    </tr>\n",
       "    <tr>\n",
       "      <th>549</th>\n",
       "      <td>-15.166773</td>\n",
       "      <td>-13.635281</td>\n",
       "    </tr>\n",
       "    <tr>\n",
       "      <th>41</th>\n",
       "      <td>-14.500211</td>\n",
       "      <td>-21.458576</td>\n",
       "    </tr>\n",
       "    <tr>\n",
       "      <th>374</th>\n",
       "      <td>-7.606018</td>\n",
       "      <td>-18.383692</td>\n",
       "    </tr>\n",
       "    <tr>\n",
       "      <th>417</th>\n",
       "      <td>-8.231524</td>\n",
       "      <td>-21.959435</td>\n",
       "    </tr>\n",
       "    <tr>\n",
       "      <th>348</th>\n",
       "      <td>22.201172</td>\n",
       "      <td>-14.815346</td>\n",
       "    </tr>\n",
       "    <tr>\n",
       "      <th>258</th>\n",
       "      <td>6.235605</td>\n",
       "      <td>-26.801611</td>\n",
       "    </tr>\n",
       "    <tr>\n",
       "      <th>469</th>\n",
       "      <td>-3.376951</td>\n",
       "      <td>55.459723</td>\n",
       "    </tr>\n",
       "    <tr>\n",
       "      <th>166</th>\n",
       "      <td>6.244202</td>\n",
       "      <td>21.705823</td>\n",
       "    </tr>\n",
       "    <tr>\n",
       "      <th>304</th>\n",
       "      <td>0.973759</td>\n",
       "      <td>4.071208</td>\n",
       "    </tr>\n",
       "    <tr>\n",
       "      <th>610</th>\n",
       "      <td>13.033162</td>\n",
       "      <td>-18.007573</td>\n",
       "    </tr>\n",
       "    <tr>\n",
       "      <th>271</th>\n",
       "      <td>20.524013</td>\n",
       "      <td>-8.394623</td>\n",
       "    </tr>\n",
       "    <tr>\n",
       "      <th>430</th>\n",
       "      <td>1.659643</td>\n",
       "      <td>-23.585666</td>\n",
       "    </tr>\n",
       "    <tr>\n",
       "      <th>71</th>\n",
       "      <td>-1.825428</td>\n",
       "      <td>0.474620</td>\n",
       "    </tr>\n",
       "    <tr>\n",
       "      <th>347</th>\n",
       "      <td>-48.617439</td>\n",
       "      <td>-7.684282</td>\n",
       "    </tr>\n",
       "    <tr>\n",
       "      <th>32</th>\n",
       "      <td>-53.306872</td>\n",
       "      <td>13.988470</td>\n",
       "    </tr>\n",
       "    <tr>\n",
       "      <th>...</th>\n",
       "      <td>...</td>\n",
       "      <td>...</td>\n",
       "    </tr>\n",
       "    <tr>\n",
       "      <th>654</th>\n",
       "      <td>22.142057</td>\n",
       "      <td>-16.012743</td>\n",
       "    </tr>\n",
       "    <tr>\n",
       "      <th>161</th>\n",
       "      <td>-19.777720</td>\n",
       "      <td>15.010385</td>\n",
       "    </tr>\n",
       "    <tr>\n",
       "      <th>585</th>\n",
       "      <td>-8.692998</td>\n",
       "      <td>-19.508355</td>\n",
       "    </tr>\n",
       "    <tr>\n",
       "      <th>19</th>\n",
       "      <td>-22.414667</td>\n",
       "      <td>-5.052174</td>\n",
       "    </tr>\n",
       "    <tr>\n",
       "      <th>351</th>\n",
       "      <td>2.447422</td>\n",
       "      <td>-0.372777</td>\n",
       "    </tr>\n",
       "    <tr>\n",
       "      <th>574</th>\n",
       "      <td>20.560868</td>\n",
       "      <td>-8.670832</td>\n",
       "    </tr>\n",
       "    <tr>\n",
       "      <th>43</th>\n",
       "      <td>-1.384423</td>\n",
       "      <td>-22.138277</td>\n",
       "    </tr>\n",
       "    <tr>\n",
       "      <th>190</th>\n",
       "      <td>15.045953</td>\n",
       "      <td>20.328167</td>\n",
       "    </tr>\n",
       "    <tr>\n",
       "      <th>13</th>\n",
       "      <td>-7.275756</td>\n",
       "      <td>-56.286623</td>\n",
       "    </tr>\n",
       "    <tr>\n",
       "      <th>16</th>\n",
       "      <td>-15.481186</td>\n",
       "      <td>-23.009161</td>\n",
       "    </tr>\n",
       "    <tr>\n",
       "      <th>295</th>\n",
       "      <td>-14.956720</td>\n",
       "      <td>-14.916460</td>\n",
       "    </tr>\n",
       "    <tr>\n",
       "      <th>533</th>\n",
       "      <td>-19.494182</td>\n",
       "      <td>10.152109</td>\n",
       "    </tr>\n",
       "    <tr>\n",
       "      <th>435</th>\n",
       "      <td>4.113104</td>\n",
       "      <td>26.524053</td>\n",
       "    </tr>\n",
       "    <tr>\n",
       "      <th>325</th>\n",
       "      <td>-22.351693</td>\n",
       "      <td>-8.141539</td>\n",
       "    </tr>\n",
       "    <tr>\n",
       "      <th>83</th>\n",
       "      <td>-9.486581</td>\n",
       "      <td>-18.257787</td>\n",
       "    </tr>\n",
       "    <tr>\n",
       "      <th>541</th>\n",
       "      <td>-19.779693</td>\n",
       "      <td>20.277606</td>\n",
       "    </tr>\n",
       "    <tr>\n",
       "      <th>656</th>\n",
       "      <td>-9.534431</td>\n",
       "      <td>20.163994</td>\n",
       "    </tr>\n",
       "    <tr>\n",
       "      <th>76</th>\n",
       "      <td>15.660228</td>\n",
       "      <td>-17.185664</td>\n",
       "    </tr>\n",
       "    <tr>\n",
       "      <th>528</th>\n",
       "      <td>-23.517845</td>\n",
       "      <td>1.835447</td>\n",
       "    </tr>\n",
       "    <tr>\n",
       "      <th>350</th>\n",
       "      <td>12.880097</td>\n",
       "      <td>-19.606938</td>\n",
       "    </tr>\n",
       "    <tr>\n",
       "      <th>2</th>\n",
       "      <td>29.170503</td>\n",
       "      <td>-3.287474</td>\n",
       "    </tr>\n",
       "    <tr>\n",
       "      <th>249</th>\n",
       "      <td>-7.341765</td>\n",
       "      <td>23.849399</td>\n",
       "    </tr>\n",
       "    <tr>\n",
       "      <th>151</th>\n",
       "      <td>-20.458849</td>\n",
       "      <td>-0.506305</td>\n",
       "    </tr>\n",
       "    <tr>\n",
       "      <th>49</th>\n",
       "      <td>-7.666539</td>\n",
       "      <td>-19.186288</td>\n",
       "    </tr>\n",
       "    <tr>\n",
       "      <th>544</th>\n",
       "      <td>2.518888</td>\n",
       "      <td>20.252980</td>\n",
       "    </tr>\n",
       "    <tr>\n",
       "      <th>318</th>\n",
       "      <td>-5.312105</td>\n",
       "      <td>55.199265</td>\n",
       "    </tr>\n",
       "    <tr>\n",
       "      <th>291</th>\n",
       "      <td>-28.303112</td>\n",
       "      <td>-5.959303</td>\n",
       "    </tr>\n",
       "    <tr>\n",
       "      <th>144</th>\n",
       "      <td>-10.844060</td>\n",
       "      <td>-22.271199</td>\n",
       "    </tr>\n",
       "    <tr>\n",
       "      <th>292</th>\n",
       "      <td>-18.492049</td>\n",
       "      <td>-21.309938</td>\n",
       "    </tr>\n",
       "    <tr>\n",
       "      <th>619</th>\n",
       "      <td>-2.621881</td>\n",
       "      <td>4.855371</td>\n",
       "    </tr>\n",
       "  </tbody>\n",
       "</table>\n",
       "<p>548 rows × 2 columns</p>\n",
       "</div>"
      ],
      "text/plain": [
       "          xval       yval\n",
       "506  10.657675 -20.531530\n",
       "276  -1.597079   0.535253\n",
       "360  19.970632  19.682615\n",
       "572  18.737722  12.619109\n",
       "46   13.868142  26.198832\n",
       "565   1.033967 -21.197991\n",
       "57  -40.559928 -26.151478\n",
       "105  -9.721669 -25.974789\n",
       "451   9.913082  32.260374\n",
       "210   0.479928 -21.416955\n",
       "266  22.442465 -17.648869\n",
       "201  23.113932  10.369649\n",
       "591  10.361695 -25.349381\n",
       "354 -10.781156 -26.890199\n",
       "370  23.326561  -3.176712\n",
       "549 -15.166773 -13.635281\n",
       "41  -14.500211 -21.458576\n",
       "374  -7.606018 -18.383692\n",
       "417  -8.231524 -21.959435\n",
       "348  22.201172 -14.815346\n",
       "258   6.235605 -26.801611\n",
       "469  -3.376951  55.459723\n",
       "166   6.244202  21.705823\n",
       "304   0.973759   4.071208\n",
       "610  13.033162 -18.007573\n",
       "271  20.524013  -8.394623\n",
       "430   1.659643 -23.585666\n",
       "71   -1.825428   0.474620\n",
       "347 -48.617439  -7.684282\n",
       "32  -53.306872  13.988470\n",
       "..         ...        ...\n",
       "654  22.142057 -16.012743\n",
       "161 -19.777720  15.010385\n",
       "585  -8.692998 -19.508355\n",
       "19  -22.414667  -5.052174\n",
       "351   2.447422  -0.372777\n",
       "574  20.560868  -8.670832\n",
       "43   -1.384423 -22.138277\n",
       "190  15.045953  20.328167\n",
       "13   -7.275756 -56.286623\n",
       "16  -15.481186 -23.009161\n",
       "295 -14.956720 -14.916460\n",
       "533 -19.494182  10.152109\n",
       "435   4.113104  26.524053\n",
       "325 -22.351693  -8.141539\n",
       "83   -9.486581 -18.257787\n",
       "541 -19.779693  20.277606\n",
       "656  -9.534431  20.163994\n",
       "76   15.660228 -17.185664\n",
       "528 -23.517845   1.835447\n",
       "350  12.880097 -19.606938\n",
       "2    29.170503  -3.287474\n",
       "249  -7.341765  23.849399\n",
       "151 -20.458849  -0.506305\n",
       "49   -7.666539 -19.186288\n",
       "544   2.518888  20.252980\n",
       "318  -5.312105  55.199265\n",
       "291 -28.303112  -5.959303\n",
       "144 -10.844060 -22.271199\n",
       "292 -18.492049 -21.309938\n",
       "619  -2.621881   4.855371\n",
       "\n",
       "[548 rows x 2 columns]"
      ]
     },
     "execution_count": 39,
     "metadata": {},
     "output_type": "execute_result"
    }
   ],
   "source": [
    "X_train"
   ]
  },
  {
   "cell_type": "code",
   "execution_count": 57,
   "metadata": {},
   "outputs": [],
   "source": [
    "import itertools\n",
    "\n",
    "\n",
    "def Eval (model):\n",
    "\n",
    "    predictions = model.predict(X_test)\n",
    "\n",
    "\n",
    "\n",
    "\n",
    "    def plot_confusion_matrix(cm, classes,\n",
    "                              normalize=False,\n",
    "                              title='Confusion matrix',\n",
    "                              cmap=plt.cm.Blues):\n",
    "        \"\"\"\n",
    "        This function prints and plots the confusion matrix.\n",
    "        Normalization can be applied by setting normalize=True.\n",
    "        \"\"\"\n",
    "        if normalize:\n",
    "            cm = cm.astype('float') / cm.sum(axis=1)[:, np.newaxis]\n",
    "            print(\"\\nNormalized confusion matrix\")\n",
    "        else:\n",
    "            print('\\nConfusion matrix, without normalization')\n",
    "\n",
    "        #print(cm)\n",
    "\n",
    "        plt.imshow(cm, interpolation='nearest', cmap=cmap)\n",
    "        plt.title(title)\n",
    "        plt.colorbar()\n",
    "        tick_marks = np.arange(len(classes))\n",
    "        plt.xticks(tick_marks, classes, rotation=45)\n",
    "        plt.yticks(tick_marks, classes)\n",
    "\n",
    "        fmt = '.2f' if normalize else 'd'\n",
    "        thresh = cm.max() / 2.\n",
    "        for i, j in itertools.product(range(cm.shape[0]), range(cm.shape[1])):\n",
    "            plt.text(j, i, format(cm[i, j], fmt),\n",
    "                     horizontalalignment=\"center\",\n",
    "                     color=\"white\" if cm[i, j] > thresh else \"black\")\n",
    "\n",
    "        plt.tight_layout()\n",
    "        plt.ylabel('True label')\n",
    "        plt.xlabel('Predicted label')\n",
    "\n",
    "\n",
    "\n",
    "    \n",
    "    print (\"\\nTrain Accuracy : \", accuracy_score(y_train, model.predict(X_train)))\n",
    "    print (\"\\nTest Accuracy  : \", accuracy_score(y_test, predictions))\n",
    "    cm = confusion_matrix(y_test, predictions)\n",
    "    #print (\" Confusion matrix \", confmat)\n",
    "\n",
    "        #plots confusion matrix non-normalized\n",
    "    #cm = confusion_matrix(y_test, predictions)\n",
    "    plot_confusion_matrix(cm, ['R','G','B'])\n",
    "    plt.show()\n",
    "\n",
    "    #plots confusion matrix normalized\n",
    "    plot_confusion_matrix(cm, ['R','G','B'], normalize=True)\n",
    "    plt.show()\n",
    "\n",
    "    \n",
    "    from sklearn.metrics import classification_report\n",
    "    \n",
    "    print(\"\\nCLASSIFICATION REPORT WITH PERCISION AND REACALL\\n\")\n",
    "    target_names = ['R','G', 'B']\n",
    "    print(classification_report(y_test, predictions, target_names=target_names))\n",
    "    \n",
    "    "
   ]
  },
  {
   "cell_type": "code",
   "execution_count": 50,
   "metadata": {},
   "outputs": [],
   "source": [
    "from sklearn.neural_network import MLPClassifier\n",
    "\n",
    "clf = MLPClassifier(solver='lbfgs', alpha=1e-5,\n",
    "                    hidden_layer_sizes=(100,100,100), random_state=1, max_iter= 1000)\n",
    "\n",
    "neuralnetwork= clf.fit(X_train, y_train)                         \n"
   ]
  },
  {
   "cell_type": "code",
   "execution_count": 59,
   "metadata": {},
   "outputs": [
    {
     "name": "stdout",
     "output_type": "stream",
     "text": [
      "\n",
      "Train Accuracy :  0.9835766423357665\n",
      "\n",
      "Test Accuracy  :  0.9927007299270073\n",
      "\n",
      "Confusion matrix, without normalization\n"
     ]
    },
    {
     "data": {
      "image/png": "[encoded data removed]",
      "text/plain": [
       "<Figure size 432x288 with 2 Axes>"
      ]
     },
     "metadata": {
      "needs_background": "light"
     },
     "output_type": "display_data"
    },
    {
     "name": "stdout",
     "output_type": "stream",
     "text": [
      "\n",
      "Normalized confusion matrix\n"
     ]
    },
    {
     "data": {
      "image/png": "[encoded data removed]",
      "text/plain": [
       "<Figure size 432x288 with 2 Axes>"
      ]
     },
     "metadata": {
      "needs_background": "light"
     },
     "output_type": "display_data"
    },
    {
     "name": "stdout",
     "output_type": "stream",
     "text": [
      "\n",
      "CLASSIFICATION REPORT WITH PERCISION AND REACALL\n",
      "\n",
      "              precision    recall  f1-score   support\n",
      "\n",
      "           R       1.00      1.00      1.00        11\n",
      "           G       1.00      0.89      0.94         9\n",
      "           B       0.99      1.00      1.00       117\n",
      "\n",
      "    accuracy                           0.99       137\n",
      "   macro avg       1.00      0.96      0.98       137\n",
      "weighted avg       0.99      0.99      0.99       137\n",
      "\n"
     ]
    }
   ],
   "source": [
    "Eval(neuralnetwork)"
   ]
  },
  {
   "cell_type": "code",
   "execution_count": 60,
   "metadata": {},
   "outputs": [
    {
     "name": "stdout",
     "output_type": "stream",
     "text": [
      "\n",
      "Train Accuracy :  1.0\n",
      "\n",
      "Test Accuracy  :  0.9927007299270073\n",
      "\n",
      "Confusion matrix, without normalization\n"
     ]
    },
    {
     "data": {
      "image/png": "[encoded data removed]",
      "text/plain": [
       "<Figure size 432x288 with 2 Axes>"
      ]
     },
     "metadata": {
      "needs_background": "light"
     },
     "output_type": "display_data"
    },
    {
     "name": "stdout",
     "output_type": "stream",
     "text": [
      "\n",
      "Normalized confusion matrix\n"
     ]
    },
    {
     "data": {
      "image/png": "[encoded data removed]",
      "text/plain": [
       "<Figure size 432x288 with 2 Axes>"
      ]
     },
     "metadata": {
      "needs_background": "light"
     },
     "output_type": "display_data"
    },
    {
     "name": "stdout",
     "output_type": "stream",
     "text": [
      "\n",
      "CLASSIFICATION REPORT WITH PERCISION AND REACALL\n",
      "\n",
      "              precision    recall  f1-score   support\n",
      "\n",
      "           R       1.00      1.00      1.00        11\n",
      "           G       1.00      0.89      0.94         9\n",
      "           B       0.99      1.00      1.00       117\n",
      "\n",
      "    accuracy                           0.99       137\n",
      "   macro avg       1.00      0.96      0.98       137\n",
      "weighted avg       0.99      0.99      0.99       137\n",
      "\n"
     ]
    }
   ],
   "source": [
    "clf = MLPClassifier(solver='lbfgs', alpha=1e-5,\n",
    "                    hidden_layer_sizes=(1000,1000,1000), random_state=1, max_iter= 1000)\n",
    "\n",
    "neuralnetwork= clf.fit(X_train, y_train)  \n",
    "Eval(neuralnetwork)"
   ]
  },
  {
   "cell_type": "code",
   "execution_count": 61,
   "metadata": {},
   "outputs": [
    {
     "name": "stdout",
     "output_type": "stream",
     "text": [
      "\n",
      "Train Accuracy :  1.0\n",
      "\n",
      "Test Accuracy  :  0.9854014598540146\n",
      "\n",
      "Confusion matrix, without normalization\n"
     ]
    },
    {
     "data": {
      "image/png": "[encoded data removed]",
      "text/plain": [
       "<Figure size 432x288 with 2 Axes>"
      ]
     },
     "metadata": {
      "needs_background": "light"
     },
     "output_type": "display_data"
    },
    {
     "name": "stdout",
     "output_type": "stream",
     "text": [
      "\n",
      "Normalized confusion matrix\n"
     ]
    },
    {
     "data": {
      "image/png": "[encoded data removed]",
      "text/plain": [
       "<Figure size 432x288 with 2 Axes>"
      ]
     },
     "metadata": {
      "needs_background": "light"
     },
     "output_type": "display_data"
    },
    {
     "name": "stdout",
     "output_type": "stream",
     "text": [
      "\n",
      "CLASSIFICATION REPORT WITH PERCISION AND REACALL\n",
      "\n",
      "              precision    recall  f1-score   support\n",
      "\n",
      "           R       1.00      1.00      1.00        11\n",
      "           G       1.00      0.78      0.88         9\n",
      "           B       0.98      1.00      0.99       117\n",
      "\n",
      "    accuracy                           0.99       137\n",
      "   macro avg       0.99      0.93      0.96       137\n",
      "weighted avg       0.99      0.99      0.98       137\n",
      "\n"
     ]
    }
   ],
   "source": [
    "clf = MLPClassifier(solver='lbfgs', alpha=1e-5,\n",
    "                    hidden_layer_sizes=(1000,1000,1000,100), random_state=1, max_iter= 1000)\n",
    "\n",
    "neuralnetwork= clf.fit(X_train, y_train)  \n",
    "Eval(neuralnetwork)"
   ]
  },
  {
   "cell_type": "code",
   "execution_count": 62,
   "metadata": {},
   "outputs": [
    {
     "name": "stdout",
     "output_type": "stream",
     "text": [
      "\n",
      "Train Accuracy :  1.0\n",
      "\n",
      "Test Accuracy  :  0.9927007299270073\n",
      "\n",
      "Confusion matrix, without normalization\n"
     ]
    },
    {
     "data": {
      "image/png": "[encoded data removed]",
      "text/plain": [
       "<Figure size 432x288 with 2 Axes>"
      ]
     },
     "metadata": {
      "needs_background": "light"
     },
     "output_type": "display_data"
    },
    {
     "name": "stdout",
     "output_type": "stream",
     "text": [
      "\n",
      "Normalized confusion matrix\n"
     ]
    },
    {
     "data": {
      "image/png": "[encoded data removed]",
      "text/plain": [
       "<Figure size 432x288 with 2 Axes>"
      ]
     },
     "metadata": {
      "needs_background": "light"
     },
     "output_type": "display_data"
    },
    {
     "name": "stdout",
     "output_type": "stream",
     "text": [
      "\n",
      "CLASSIFICATION REPORT WITH PERCISION AND REACALL\n",
      "\n",
      "              precision    recall  f1-score   support\n",
      "\n",
      "           R       1.00      1.00      1.00        11\n",
      "           G       1.00      0.89      0.94         9\n",
      "           B       0.99      1.00      1.00       117\n",
      "\n",
      "    accuracy                           0.99       137\n",
      "   macro avg       1.00      0.96      0.98       137\n",
      "weighted avg       0.99      0.99      0.99       137\n",
      "\n"
     ]
    }
   ],
   "source": [
    "clf = MLPClassifier(solver='lbfgs', alpha=1e-5,\n",
    "                    hidden_layer_sizes=(100,100,100,100,100,100,100,100,100,100,100,100,100), random_state=1, max_iter= 1000)\n",
    "\n",
    "neuralnetwork= clf.fit(X_train, y_train)  \n",
    "Eval(neuralnetwork)"
   ]
  },
  {
   "cell_type": "code",
   "execution_count": 63,
   "metadata": {},
   "outputs": [
    {
     "name": "stdout",
     "output_type": "stream",
     "text": [
      "\n",
      "Train Accuracy :  1.0\n",
      "\n",
      "Test Accuracy  :  0.9927007299270073\n",
      "\n",
      "Confusion matrix, without normalization\n"
     ]
    },
    {
     "data": {
      "image/png": "[encoded data removed]",
      "text/plain": [
       "<Figure size 432x288 with 2 Axes>"
      ]
     },
     "metadata": {
      "needs_background": "light"
     },
     "output_type": "display_data"
    },
    {
     "name": "stdout",
     "output_type": "stream",
     "text": [
      "\n",
      "Normalized confusion matrix\n"
     ]
    },
    {
     "data": {
      "image/png": "[encoded data removed]",
      "text/plain": [
       "<Figure size 432x288 with 2 Axes>"
      ]
     },
     "metadata": {
      "needs_background": "light"
     },
     "output_type": "display_data"
    },
    {
     "name": "stdout",
     "output_type": "stream",
     "text": [
      "\n",
      "CLASSIFICATION REPORT WITH PERCISION AND REACALL\n",
      "\n",
      "              precision    recall  f1-score   support\n",
      "\n",
      "           R       1.00      1.00      1.00        11\n",
      "           G       1.00      0.89      0.94         9\n",
      "           B       0.99      1.00      1.00       117\n",
      "\n",
      "    accuracy                           0.99       137\n",
      "   macro avg       1.00      0.96      0.98       137\n",
      "weighted avg       0.99      0.99      0.99       137\n",
      "\n"
     ]
    }
   ],
   "source": [
    "clf = MLPClassifier(solver='lbfgs', alpha=1e-5,\n",
    "                    hidden_layer_sizes=(100,100,100,100,100,100,100,100,100,100,100,100,100), random_state=1, max_iter= 3000)\n",
    "\n",
    "neuralnetwork= clf.fit(X_train, y_train)  \n",
    "Eval(neuralnetwork)"
   ]
  },
  {
   "cell_type": "code",
   "execution_count": 64,
   "metadata": {},
   "outputs": [
    {
     "name": "stdout",
     "output_type": "stream",
     "text": [
      "\n",
      "Train Accuracy :  0.9963503649635036\n",
      "\n",
      "Test Accuracy  :  0.9927007299270073\n",
      "\n",
      "Confusion matrix, without normalization\n"
     ]
    },
    {
     "data": {
      "image/png": "[encoded data removed]",
      "text/plain": [
       "<Figure size 432x288 with 2 Axes>"
      ]
     },
     "metadata": {
      "needs_background": "light"
     },
     "output_type": "display_data"
    },
    {
     "name": "stdout",
     "output_type": "stream",
     "text": [
      "\n",
      "Normalized confusion matrix\n"
     ]
    },
    {
     "data": {
      "image/png": "[encoded data removed]",
      "text/plain": [
       "<Figure size 432x288 with 2 Axes>"
      ]
     },
     "metadata": {
      "needs_background": "light"
     },
     "output_type": "display_data"
    },
    {
     "name": "stdout",
     "output_type": "stream",
     "text": [
      "\n",
      "CLASSIFICATION REPORT WITH PERCISION AND REACALL\n",
      "\n",
      "              precision    recall  f1-score   support\n",
      "\n",
      "           R       1.00      1.00      1.00        11\n",
      "           G       1.00      0.89      0.94         9\n",
      "           B       0.99      1.00      1.00       117\n",
      "\n",
      "    accuracy                           0.99       137\n",
      "   macro avg       1.00      0.96      0.98       137\n",
      "weighted avg       0.99      0.99      0.99       137\n",
      "\n"
     ]
    }
   ],
   "source": [
    "clf = MLPClassifier(solver='lbfgs', alpha=1e-5,\n",
    "                    hidden_layer_sizes=(100,100,100,100,100,100,100,100,100,100,100,100,100), random_state=20, max_iter= 3000)\n",
    "\n",
    "neuralnetwork= clf.fit(X_train, y_train)  \n",
    "Eval(neuralnetwork)"
   ]
  },
  {
   "cell_type": "code",
   "execution_count": 68,
   "metadata": {},
   "outputs": [
    {
     "name": "stdout",
     "output_type": "stream",
     "text": [
      "MLPClassifier(activation='relu', alpha=1e-05, batch_size='auto', beta_1=0.9,\n",
      "              beta_2=0.999, early_stopping=False, epsilon=1e-08,\n",
      "              hidden_layer_sizes=100000, learning_rate='constant',\n",
      "              learning_rate_init=0.001, max_iter=3000, momentum=0.9,\n",
      "              n_iter_no_change=10, nesterovs_momentum=True, power_t=0.5,\n",
      "              random_state=1, shuffle=True, solver='lbfgs', tol=0.0001,\n",
      "              validation_fraction=0.1, verbose=False, warm_start=False)\n",
      "\n",
      "Train Accuracy :  1.0\n",
      "\n",
      "Test Accuracy  :  0.9927007299270073\n",
      "\n",
      "Confusion matrix, without normalization\n"
     ]
    },
    {
     "data": {
      "image/png": "[encoded data removed]",
      "text/plain": [
       "<Figure size 432x288 with 2 Axes>"
      ]
     },
     "metadata": {
      "needs_background": "light"
     },
     "output_type": "display_data"
    },
    {
     "name": "stdout",
     "output_type": "stream",
     "text": [
      "\n",
      "Normalized confusion matrix\n"
     ]
    },
    {
     "data": {
      "image/png": "[encoded data removed]",
      "text/plain": [
       "<Figure size 432x288 with 2 Axes>"
      ]
     },
     "metadata": {
      "needs_background": "light"
     },
     "output_type": "display_data"
    },
    {
     "name": "stdout",
     "output_type": "stream",
     "text": [
      "\n",
      "CLASSIFICATION REPORT WITH PERCISION AND REACALL\n",
      "\n",
      "              precision    recall  f1-score   support\n",
      "\n",
      "           R       1.00      1.00      1.00        11\n",
      "           G       1.00      0.89      0.94         9\n",
      "           B       0.99      1.00      1.00       117\n",
      "\n",
      "    accuracy                           0.99       137\n",
      "   macro avg       1.00      0.96      0.98       137\n",
      "weighted avg       0.99      0.99      0.99       137\n",
      "\n"
     ]
    }
   ],
   "source": [
    "clf = MLPClassifier(solver='lbfgs', alpha=1e-5,\n",
    "                    hidden_layer_sizes=(100000), random_state=1, max_iter= 3000)\n",
    "print (clf)\n",
    "neuralnetwork= clf.fit(X_train, y_train)  \n",
    "Eval(neuralnetwork)"
   ]
  },
  {
   "cell_type": "code",
   "execution_count": null,
   "metadata": {},
   "outputs": [],
   "source": [
    "clf = MLPClassifier(solver='lbfgs', alpha=1e-5,\n",
    "                    hidden_layer_sizes=(100000), random_state=1, max_iter= 3000)\n",
    "print (clf)\n",
    "neuralnetwork= clf.fit(X_train, y_train)  \n",
    "Eval(neuralnetwork)"
   ]
  }
 ],
 "metadata": {
  "kernelspec": {
   "display_name": "Python 3",
   "language": "python",
   "name": "python3"
  },
  "language_info": {
   "codemirror_mode": {
    "name": "ipython",
    "version": 3
   },
   "file_extension": ".py",
   "mimetype": "text/x-python",
   "name": "python",
   "nbconvert_exporter": "python",
   "pygments_lexer": "ipython3",
   "version": "3.6.8"
  }
 },
 "nbformat": 4,
 "nbformat_minor": 2
}
